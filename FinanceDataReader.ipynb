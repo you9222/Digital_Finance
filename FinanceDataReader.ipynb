{
  "nbformat": 4,
  "nbformat_minor": 0,
  "metadata": {
    "colab": {
      "name": "FinanceDataReader.ipynb",
      "provenance": [],
      "collapsed_sections": [],
      "authorship_tag": "ABX9TyOaN1JE7YiGgPLh+B4s4k6c",
      "include_colab_link": true
    },
    "kernelspec": {
      "name": "python3",
      "display_name": "Python 3"
    },
    "language_info": {
      "name": "python"
    }
  },
  "cells": [
    {
      "cell_type": "markdown",
      "metadata": {
        "id": "view-in-github",
        "colab_type": "text"
      },
      "source": [
        "<a href=\"https://colab.research.google.com/github/you9222/Digital_Finance/blob/main/FinanceDataReader.ipynb\" target=\"_parent\"><img src=\"https://colab.research.google.com/assets/colab-badge.svg\" alt=\"Open In Colab\"/></a>"
      ]
    },
    {
      "cell_type": "markdown",
      "metadata": {
        "id": "e1RKVX_WT_TQ"
      },
      "source": [
        "# FinanceDataReader\n",
        "\n",
        "pandas-datareader를 보완한 API\n",
        "\n",
        "https://stockanalysis.tistory.com/12"
      ]
    },
    {
      "cell_type": "code",
      "metadata": {
        "colab": {
          "base_uri": "https://localhost:8080/"
        },
        "id": "vnZEV51kTuK1",
        "outputId": "c21353ad-ccff-4e35-be28-8a3560cf2de8"
      },
      "source": [
        "!pip install finance-datareader # API 설치"
      ],
      "execution_count": 129,
      "outputs": [
        {
          "output_type": "stream",
          "text": [
            "Requirement already satisfied: finance-datareader in /usr/local/lib/python3.7/dist-packages (0.9.31)\n",
            "Requirement already satisfied: requests-file in /usr/local/lib/python3.7/dist-packages (from finance-datareader) (1.5.1)\n",
            "Requirement already satisfied: pandas>=0.19.2 in /usr/local/lib/python3.7/dist-packages (from finance-datareader) (1.1.5)\n",
            "Requirement already satisfied: tqdm in /usr/local/lib/python3.7/dist-packages (from finance-datareader) (4.41.1)\n",
            "Requirement already satisfied: requests>=2.3.0 in /usr/local/lib/python3.7/dist-packages (from finance-datareader) (2.23.0)\n",
            "Requirement already satisfied: lxml in /usr/local/lib/python3.7/dist-packages (from finance-datareader) (4.6.3)\n",
            "Requirement already satisfied: six in /usr/local/lib/python3.7/dist-packages (from requests-file->finance-datareader) (1.15.0)\n",
            "Requirement already satisfied: python-dateutil>=2.7.3 in /usr/local/lib/python3.7/dist-packages (from pandas>=0.19.2->finance-datareader) (2.8.1)\n",
            "Requirement already satisfied: pytz>=2017.2 in /usr/local/lib/python3.7/dist-packages (from pandas>=0.19.2->finance-datareader) (2018.9)\n",
            "Requirement already satisfied: numpy>=1.15.4 in /usr/local/lib/python3.7/dist-packages (from pandas>=0.19.2->finance-datareader) (1.19.5)\n",
            "Requirement already satisfied: urllib3!=1.25.0,!=1.25.1,<1.26,>=1.21.1 in /usr/local/lib/python3.7/dist-packages (from requests>=2.3.0->finance-datareader) (1.24.3)\n",
            "Requirement already satisfied: chardet<4,>=3.0.2 in /usr/local/lib/python3.7/dist-packages (from requests>=2.3.0->finance-datareader) (3.0.4)\n",
            "Requirement already satisfied: certifi>=2017.4.17 in /usr/local/lib/python3.7/dist-packages (from requests>=2.3.0->finance-datareader) (2020.12.5)\n",
            "Requirement already satisfied: idna<3,>=2.5 in /usr/local/lib/python3.7/dist-packages (from requests>=2.3.0->finance-datareader) (2.10)\n"
          ],
          "name": "stdout"
        }
      ]
    },
    {
      "cell_type": "code",
      "metadata": {
        "colab": {
          "base_uri": "https://localhost:8080/"
        },
        "id": "JPRDsixmUTaw",
        "outputId": "5c1f246f-fa31-4725-8651-dec05ac89a9a"
      },
      "source": [
        "import FinanceDataReader as fdr\n",
        "\n",
        "NASDAQ = fdr.StockListing('NASDAQ') # 나스닥 상장 종목 불러오기   KRX, KOSPI, KOSDAQ, KONEX, NYSE, NASDAQ 등\n"
      ],
      "execution_count": 128,
      "outputs": [
        {
          "output_type": "stream",
          "text": [
            "100%|██████████| 3670/3670 [00:40<00:00, 90.18it/s]\n"
          ],
          "name": "stderr"
        }
      ]
    },
    {
      "cell_type": "code",
      "metadata": {
        "colab": {
          "base_uri": "https://localhost:8080/"
        },
        "id": "AFWcURHQUTm9",
        "outputId": "27c805c5-8168-435b-a15b-8aaa1cbdf454"
      },
      "source": [
        "print(NASDAQ)     # ALL 출력"
      ],
      "execution_count": 130,
      "outputs": [
        {
          "output_type": "stream",
          "text": [
            "     Symbol  ... IndustryCode\n",
            "0      AAPL  ...       571060\n",
            "1      MSFT  ...       572010\n",
            "2      AMZN  ...       534020\n",
            "3        FB  ...       572010\n",
            "4     GOOGL  ...       572010\n",
            "...     ...  ...          ...\n",
            "3665   ULCC  ...       524050\n",
            "3666   EVOJ  ...       556010\n",
            "3667   ENNV  ...       556010\n",
            "3668   KARO  ...       572010\n",
            "3669    GIG  ...       556010\n",
            "\n",
            "[3670 rows x 4 columns]\n"
          ],
          "name": "stdout"
        }
      ]
    },
    {
      "cell_type": "code",
      "metadata": {
        "colab": {
          "base_uri": "https://localhost:8080/"
        },
        "id": "obGq0GaZUlYW",
        "outputId": "334676d5-1d27-428b-e92f-d9c0129ecfd1"
      },
      "source": [
        "CCL = fdr.DataReader('CCL') # CCL 카니발 _ 전체 기간    / 티커로 바로 가져 올 수 있음.\n",
        "CCL_2020 = fdr.DataReader('CCL','2020') # CCL 카니발 _ 2020 년\n",
        "CCL_2021_MY = fdr.DataReader('CCL','2021-01-01','2021-03-31') # CCL 카니발 _ 원하는 날짜\n",
        "\n",
        "print(CCL)\n",
        "# print(CCL_2020)\n",
        "print(CCL_2021_MY)"
      ],
      "execution_count": 136,
      "outputs": [
        {
          "output_type": "stream",
          "text": [
            "            Close   Open   High    Low      Volume  Change\n",
            "Date                                                      \n",
            "1987-07-24   3.94   3.94   3.94   3.88  15570000.0 -0.9194\n",
            "1987-07-27   3.91   3.91   3.94   3.88   1930000.0 -0.0076\n",
            "1987-07-28   3.88   3.88   3.91   3.88   2070000.0 -0.0077\n",
            "1987-07-29   3.88   3.88   3.91   3.88   4930000.0  0.0000\n",
            "1987-07-30   3.81   3.81   3.91   3.81   4650000.0 -0.0180\n",
            "...           ...    ...    ...    ...         ...     ...\n",
            "2021-03-26  26.06  26.25  26.51  25.21  28540000.0  0.0081\n",
            "2021-03-29  25.63  26.05  26.12  25.28  19990000.0 -0.0165\n",
            "2021-03-30  26.65  25.70  26.83  25.66  23600000.0  0.0398\n",
            "2021-03-31  26.54  26.46  26.79  25.92  21560000.0 -0.0041\n",
            "2021-04-01  26.86  26.99  27.10  26.53  19640000.0  0.0121\n",
            "\n",
            "[8491 rows x 6 columns]\n",
            "            Close   Open   High    Low      Volume  Change\n",
            "Date                                                      \n",
            "2021-01-04  20.38  21.70  21.71  20.04  40270000.0 -0.0591\n",
            "2021-01-05  20.60  20.18  20.85  20.15  31790000.0  0.0108\n",
            "2021-01-06  20.40  20.55  20.91  20.16  35300000.0 -0.0097\n",
            "2021-01-07  20.74  20.50  21.26  20.50  28990000.0  0.0167\n",
            "2021-01-08  20.47  20.90  21.01  20.18  30370000.0 -0.0130\n",
            "...           ...    ...    ...    ...         ...     ...\n",
            "2021-03-25  25.85  23.91  26.03  23.72  46670000.0  0.0402\n",
            "2021-03-26  26.06  26.25  26.51  25.21  28540000.0  0.0081\n",
            "2021-03-29  25.63  26.05  26.12  25.28  19990000.0 -0.0165\n",
            "2021-03-30  26.65  25.70  26.83  25.66  23600000.0  0.0398\n",
            "2021-03-31  26.54  26.46  26.79  25.92  21560000.0 -0.0041\n",
            "\n",
            "[61 rows x 6 columns]\n"
          ],
          "name": "stdout"
        }
      ]
    },
    {
      "cell_type": "markdown",
      "metadata": {
        "id": "clRgGKZ2UsJM"
      },
      "source": [
        "**달러, 코인, 국채 등 ..**"
      ]
    },
    {
      "cell_type": "code",
      "metadata": {
        "colab": {
          "base_uri": "https://localhost:8080/"
        },
        "id": "nld4GGSKU1if",
        "outputId": "bd8e162a-b129-4fc1-ddeb-e38d608102ba"
      },
      "source": [
        "USD_KR = fdr.DataReader('USD/KRW') # 달러 / 원 \n",
        "BTC_KR = fdr.DataReader('BTC/KRW') # 비트코인 / 원 ( 빗썸 기준 )\n",
        "\n",
        "print(USD_KR)\n",
        "print(BTC_KR)\n",
        "\n",
        "# NG 천연가스 / ZG 금 선물 / ZI 은 선물 / HG 구리 선물  등 \n",
        "# KR1YT=RR ( 1년만기 한국국채 수익률 등.. ) KR + 1YT / 국가 + 기간 = RR\n",
        "# 국가 : KR, US / 기간 : 1YT, 10YT, 1MT / RR : 수익률 ( rate of return )\n",
        "# https://fred.stlouisfed.org/  연준 DATA, 사이트에서 Symbol 가져오면 됨.\n",
        "# name = fdr.DataReader('Symbol', 'data_source = 'fred' )"
      ],
      "execution_count": 5,
      "outputs": [
        {
          "output_type": "stream",
          "text": [
            "              Close     Open     High      Low  Change\n",
            "Date                                                  \n",
            "1981-04-14   676.70   676.70   676.70   676.70  0.0019\n",
            "1981-04-15   676.70   676.70   676.70   676.70  0.0000\n",
            "1981-04-16   676.70   676.70   676.70   676.70  0.0000\n",
            "1981-04-17   676.75   676.75   676.75   676.75  0.0001\n",
            "1981-04-20   676.70   676.70   676.70   676.70 -0.0001\n",
            "...             ...      ...      ...      ...     ...\n",
            "2021-03-31  1127.17  1133.54  1134.68  1125.32 -0.0048\n",
            "2021-04-01  1128.72  1127.96  1133.82  1125.31  0.0014\n",
            "2021-04-02  1128.64  1128.86  1130.38  1126.29 -0.0001\n",
            "2021-04-04  1129.79  1129.69  1129.79  1129.69  0.0010\n",
            "2021-04-05  1127.35  1129.79  1129.79  1126.75 -0.0022\n",
            "\n",
            "[10313 rows x 5 columns]\n",
            "               Close      Open      High       Low   Volume  Change\n",
            "Date                                                               \n",
            "2017-05-23   3206000   3104000   3281000   3081000  21580.0  0.0329\n",
            "2017-05-24   4175000   3206000   4314000   3206000  34680.0  0.3022\n",
            "2017-05-25   4199000   4175000   4840000   3102000  35910.0  0.0057\n",
            "2017-05-26   3227000   4199000   4200000   2900000  36650.0 -0.2315\n",
            "2017-05-27   3152000   3227000   3288000   2460000  33750.0 -0.0232\n",
            "...              ...       ...       ...       ...      ...     ...\n",
            "2021-04-01  72314000  71001000  72402000  71001000   1140.0  0.0189\n",
            "2021-04-02  73697000  72292000  73697000  72292000    860.0  0.0191\n",
            "2021-04-03  72076000  73697000  74672000  72076000   1770.0 -0.0220\n",
            "2021-04-04  73924000  72076000  74121000  72076000    810.0  0.0256\n",
            "2021-04-05  75287000  73924000  75287000  73924000   2050.0  0.0184\n",
            "\n",
            "[1412 rows x 6 columns]\n"
          ],
          "name": "stdout"
        }
      ]
    },
    {
      "cell_type": "markdown",
      "metadata": {
        "id": "9oBz3NEZVCx_"
      },
      "source": [
        "# Yahoo Finance Data"
      ]
    },
    {
      "cell_type": "code",
      "metadata": {
        "colab": {
          "base_uri": "https://localhost:8080/"
        },
        "id": "Uxe1wpr-VDpq",
        "outputId": "3d4cc1b9-5286-4140-fccf-a93ebb9dfad7"
      },
      "source": [
        "!pip install pandas-datareader\n",
        "!pip install yfinance\n",
        "\n",
        "import pandas as pd\n",
        "import pandas_datareader as pdr\n",
        "import yfinance as yf\n",
        "\n",
        "Tesla = yf.Ticker(\"TSLA\")   # 코스피는 005930.KS or KQ 붙이기  \n",
        "Wells_Pargo = yf.Ticker(\"WFC\")\n",
        "# 변수 선언 후 \n",
        "# .dividends 배당 정보 / .splits 분할 정보  / .recommendations 애널리스트 평가정보 등 무수히 많음. 하나 하나 찾기\n",
        "# 가져올 수 있음\n",
        "\n",
        "\n",
        "# Tesla_2021 = Tesla.history(period=\"2021\") # 추출 방법 자세히 알아보기\n",
        "# print(Tesla_2021)"
      ],
      "execution_count": 14,
      "outputs": [
        {
          "output_type": "stream",
          "text": [
            "Requirement already satisfied: pandas-datareader in /usr/local/lib/python3.7/dist-packages (0.9.0)\n",
            "Requirement already satisfied: lxml in /usr/local/lib/python3.7/dist-packages (from pandas-datareader) (4.6.3)\n",
            "Requirement already satisfied: requests>=2.19.0 in /usr/local/lib/python3.7/dist-packages (from pandas-datareader) (2.23.0)\n",
            "Requirement already satisfied: pandas>=0.23 in /usr/local/lib/python3.7/dist-packages (from pandas-datareader) (1.1.5)\n",
            "Requirement already satisfied: chardet<4,>=3.0.2 in /usr/local/lib/python3.7/dist-packages (from requests>=2.19.0->pandas-datareader) (3.0.4)\n",
            "Requirement already satisfied: urllib3!=1.25.0,!=1.25.1,<1.26,>=1.21.1 in /usr/local/lib/python3.7/dist-packages (from requests>=2.19.0->pandas-datareader) (1.24.3)\n",
            "Requirement already satisfied: certifi>=2017.4.17 in /usr/local/lib/python3.7/dist-packages (from requests>=2.19.0->pandas-datareader) (2020.12.5)\n",
            "Requirement already satisfied: idna<3,>=2.5 in /usr/local/lib/python3.7/dist-packages (from requests>=2.19.0->pandas-datareader) (2.10)\n",
            "Requirement already satisfied: numpy>=1.15.4 in /usr/local/lib/python3.7/dist-packages (from pandas>=0.23->pandas-datareader) (1.19.5)\n",
            "Requirement already satisfied: pytz>=2017.2 in /usr/local/lib/python3.7/dist-packages (from pandas>=0.23->pandas-datareader) (2018.9)\n",
            "Requirement already satisfied: python-dateutil>=2.7.3 in /usr/local/lib/python3.7/dist-packages (from pandas>=0.23->pandas-datareader) (2.8.1)\n",
            "Requirement already satisfied: six>=1.5 in /usr/local/lib/python3.7/dist-packages (from python-dateutil>=2.7.3->pandas>=0.23->pandas-datareader) (1.15.0)\n",
            "Requirement already satisfied: yfinance in /usr/local/lib/python3.7/dist-packages (0.1.59)\n",
            "Requirement already satisfied: pandas>=0.24 in /usr/local/lib/python3.7/dist-packages (from yfinance) (1.1.5)\n",
            "Requirement already satisfied: multitasking>=0.0.7 in /usr/local/lib/python3.7/dist-packages (from yfinance) (0.0.9)\n",
            "Requirement already satisfied: numpy>=1.15 in /usr/local/lib/python3.7/dist-packages (from yfinance) (1.19.5)\n",
            "Requirement already satisfied: requests>=2.20 in /usr/local/lib/python3.7/dist-packages (from yfinance) (2.23.0)\n",
            "Requirement already satisfied: lxml>=4.5.1 in /usr/local/lib/python3.7/dist-packages (from yfinance) (4.6.3)\n",
            "Requirement already satisfied: pytz>=2017.2 in /usr/local/lib/python3.7/dist-packages (from pandas>=0.24->yfinance) (2018.9)\n",
            "Requirement already satisfied: python-dateutil>=2.7.3 in /usr/local/lib/python3.7/dist-packages (from pandas>=0.24->yfinance) (2.8.1)\n",
            "Requirement already satisfied: idna<3,>=2.5 in /usr/local/lib/python3.7/dist-packages (from requests>=2.20->yfinance) (2.10)\n",
            "Requirement already satisfied: certifi>=2017.4.17 in /usr/local/lib/python3.7/dist-packages (from requests>=2.20->yfinance) (2020.12.5)\n",
            "Requirement already satisfied: urllib3!=1.25.0,!=1.25.1,<1.26,>=1.21.1 in /usr/local/lib/python3.7/dist-packages (from requests>=2.20->yfinance) (1.24.3)\n",
            "Requirement already satisfied: chardet<4,>=3.0.2 in /usr/local/lib/python3.7/dist-packages (from requests>=2.20->yfinance) (3.0.4)\n",
            "Requirement already satisfied: six>=1.5 in /usr/local/lib/python3.7/dist-packages (from python-dateutil>=2.7.3->pandas>=0.24->yfinance) (1.15.0)\n"
          ],
          "name": "stdout"
        }
      ]
    },
    {
      "cell_type": "code",
      "metadata": {
        "colab": {
          "base_uri": "https://localhost:8080/",
          "height": 89
        },
        "id": "-svpjrdncrkX",
        "outputId": "f88e4018-6c1e-47d0-db4b-374cf9680f46"
      },
      "source": [
        "# 23개  property : optinon, ticker, qua ~ 5개 제외 / .get_ ~ 16개\n",
        "\n",
        "\"\"\"\n",
        "Wells_Pargo.actions                     #   배당, 분할\n",
        "Wells_Pargo.balance_sheet               #   결산표, 대차대조표, 재무상태표      //  balace_sheet랑\n",
        "Wells_Pargo.balancesheet                #   결산표, 대차대조표, 재무상태표      //\n",
        "Wells_Pargo.quarterly_balance_sheet     #   분기별 balance_sheet                //  balace_sheet 서로 같음.\n",
        "Wells_Pargo.quarterly_balancesheet      #   분기별 balancesheet                 //\n",
        "Wells_Pargo.calendar                    #   주요 행사표, 일정표, yahoo에 calendar이라는 부분이 있음.\n",
        "Wells_Pargo.cashflow                    #   현금흐름, 자금운용의\n",
        "Wells_Pargo.quarterly_cashflow          #   분기별 cashflow\n",
        "Wells_Pargo.dividends                   #   배당금\n",
        "Wells_Pargo.earnings                    #   수입\n",
        "Wells_Pargo.quarterly_earnings          #   분기별_earnings\n",
        "Wells_Pargo.financials                  #   재무재표  / Financial statements의 약어\n",
        "Wells_Pargo.quarterly_financials        #   분기별 재무재표\n",
        "Wells_Pargo.info                        #   NASDAQ Symbols : Infonautics, Inc. 인포노틱스, 주식회사\n",
        "Wells_Pargo.institutional_holders       #   기관투자자\n",
        "Wells_Pargo.isin                        #   International Securities Identifier Number ( 국제 증권 식별 번호 )\n",
        "Wells_Pargo.major_holders               #   대주주\n",
        "Wells_Pargo.mutualfund_holders          #   뮤추얼 펀드 (미국 투자 신탁(회사)의 일종) 주주\n",
        "Wells_Pargo.options                     #   선택권\n",
        "Wells_Pargo.recommendations             #   추천사항, 애널리스트 평가정보\n",
        "Wells_Pargo.splits                      #   분할\n",
        "Wells_Pargo.sustainability              #   지속가능성\n",
        "Wells_Pargo.ticker                      #   주식 시세 표시기\n",
        "\n",
        "\"\"\"\n"
      ],
      "execution_count": 35,
      "outputs": [
        {
          "output_type": "execute_result",
          "data": {
            "application/vnd.google.colaboratory.intrinsic+json": {
              "type": "string"
            },
            "text/plain": [
              "'\\nWells_Pargo.actions\\nWells_Pargo.balance_sheet\\nWells_Pargo.balancesheet\\nWells_Pargo.quarterly_balance_sheet\\nWells_Pargo.quarterly_balancesheet\\nWells_Pargo.calendar\\nWells_Pargo.cashflow\\nWells_Pargo.quarterly_cashflow\\nWells_Pargo.dividends\\nWells_Pargo.earnings\\nWells_Pargo.quarterly_earnings\\nWells_Pargo.financials\\nWells_Pargo.quarterly_financials\\nWells_Pargo.info\\nWells_Pargo.institutional_holders\\nWells_Pargo.isin\\nWells_Pargo.major_holders\\nWells_Pargo.mutualfund_holders\\nWells_Pargo.options\\nWells_Pargo.recommendations\\nWells_Pargo.splits\\nWells_Pargo.sustainability\\nWells_Pargo.ticker\\n'"
            ]
          },
          "metadata": {
            "tags": []
          },
          "execution_count": 35
        }
      ]
    },
    {
      "cell_type": "code",
      "metadata": {
        "id": "cGCoXST-w5mE"
      },
      "source": [
        "import pandas as pd\n",
        "\n",
        "# 숫자의 크기가 커서 지수표시 되는걸 없앰.\n",
        "# 과학적 표기법 대신 소수점 0자리까지 나타낸다.\n",
        "\n",
        "pd.options.display.float_format = '{:.0f}'.format\n",
        "# 천 단위 콤마 찍기는 아직\n",
        "pd.reset_option('display.float_format')  # 원래대로 복구 시킬때"
      ],
      "execution_count": 138,
      "outputs": []
    },
    {
      "cell_type": "code",
      "metadata": {
        "colab": {
          "base_uri": "https://localhost:8080/",
          "height": 235
        },
        "id": "DZhBprKtZHDR",
        "outputId": "79fb9c1e-1a71-4be0-eea9-4433a4f36973"
      },
      "source": [
        "Wells_Pargo.actions.tail()                     #   배당, 분할 / 지수 표시 없애면 반올림 됨."
      ],
      "execution_count": 139,
      "outputs": [
        {
          "output_type": "execute_result",
          "data": {
            "text/html": [
              "<div>\n",
              "<style scoped>\n",
              "    .dataframe tbody tr th:only-of-type {\n",
              "        vertical-align: middle;\n",
              "    }\n",
              "\n",
              "    .dataframe tbody tr th {\n",
              "        vertical-align: top;\n",
              "    }\n",
              "\n",
              "    .dataframe thead th {\n",
              "        text-align: right;\n",
              "    }\n",
              "</style>\n",
              "<table border=\"1\" class=\"dataframe\">\n",
              "  <thead>\n",
              "    <tr style=\"text-align: right;\">\n",
              "      <th></th>\n",
              "      <th>Dividends</th>\n",
              "      <th>Stock Splits</th>\n",
              "    </tr>\n",
              "    <tr>\n",
              "      <th>Date</th>\n",
              "      <th></th>\n",
              "      <th></th>\n",
              "    </tr>\n",
              "  </thead>\n",
              "  <tbody>\n",
              "    <tr>\n",
              "      <th>2020-02-06</th>\n",
              "      <td>0.51</td>\n",
              "      <td>0.0</td>\n",
              "    </tr>\n",
              "    <tr>\n",
              "      <th>2020-05-07</th>\n",
              "      <td>0.51</td>\n",
              "      <td>0.0</td>\n",
              "    </tr>\n",
              "    <tr>\n",
              "      <th>2020-08-06</th>\n",
              "      <td>0.10</td>\n",
              "      <td>0.0</td>\n",
              "    </tr>\n",
              "    <tr>\n",
              "      <th>2020-11-05</th>\n",
              "      <td>0.10</td>\n",
              "      <td>0.0</td>\n",
              "    </tr>\n",
              "    <tr>\n",
              "      <th>2021-02-04</th>\n",
              "      <td>0.10</td>\n",
              "      <td>0.0</td>\n",
              "    </tr>\n",
              "  </tbody>\n",
              "</table>\n",
              "</div>"
            ],
            "text/plain": [
              "            Dividends  Stock Splits\n",
              "Date                               \n",
              "2020-02-06       0.51           0.0\n",
              "2020-05-07       0.51           0.0\n",
              "2020-08-06       0.10           0.0\n",
              "2020-11-05       0.10           0.0\n",
              "2021-02-04       0.10           0.0"
            ]
          },
          "metadata": {
            "tags": []
          },
          "execution_count": 139
        }
      ]
    },
    {
      "cell_type": "code",
      "metadata": {
        "colab": {
          "base_uri": "https://localhost:8080/",
          "height": 142
        },
        "id": "FUJ7KSFGYtgD",
        "outputId": "21c3b125-1150-48e0-81a0-a532cc9e21c2"
      },
      "source": [
        "Wells_Pargo.balance_sheet.head(3)               #   결산표, 대차대조표, 재무상태표"
      ],
      "execution_count": 116,
      "outputs": [
        {
          "output_type": "execute_result",
          "data": {
            "text/html": [
              "<div>\n",
              "<style scoped>\n",
              "    .dataframe tbody tr th:only-of-type {\n",
              "        vertical-align: middle;\n",
              "    }\n",
              "\n",
              "    .dataframe tbody tr th {\n",
              "        vertical-align: top;\n",
              "    }\n",
              "\n",
              "    .dataframe thead th {\n",
              "        text-align: right;\n",
              "    }\n",
              "</style>\n",
              "<table border=\"1\" class=\"dataframe\">\n",
              "  <thead>\n",
              "    <tr style=\"text-align: right;\">\n",
              "      <th></th>\n",
              "      <th>2020-12-31</th>\n",
              "      <th>2019-12-31</th>\n",
              "      <th>2018-12-31</th>\n",
              "      <th>2017-12-31</th>\n",
              "    </tr>\n",
              "  </thead>\n",
              "  <tbody>\n",
              "    <tr>\n",
              "      <th>Intangible Assets</th>\n",
              "      <td>7765000000</td>\n",
              "      <td>13370000000</td>\n",
              "      <td>16637000000</td>\n",
              "      <td>16659000000</td>\n",
              "    </tr>\n",
              "    <tr>\n",
              "      <th>Capital Surplus</th>\n",
              "      <td>60197000000</td>\n",
              "      <td>61049000000</td>\n",
              "      <td>60685000000</td>\n",
              "      <td>60893000000</td>\n",
              "    </tr>\n",
              "    <tr>\n",
              "      <th>Total Liab</th>\n",
              "      <td>1769243000000</td>\n",
              "      <td>1739571000000</td>\n",
              "      <td>1698817000000</td>\n",
              "      <td>1743678000000</td>\n",
              "    </tr>\n",
              "  </tbody>\n",
              "</table>\n",
              "</div>"
            ],
            "text/plain": [
              "                     2020-12-31    2019-12-31    2018-12-31    2017-12-31\n",
              "Intangible Assets    7765000000   13370000000   16637000000   16659000000\n",
              "Capital Surplus     60197000000   61049000000   60685000000   60893000000\n",
              "Total Liab        1769243000000 1739571000000 1698817000000 1743678000000"
            ]
          },
          "metadata": {
            "tags": []
          },
          "execution_count": 116
        }
      ]
    },
    {
      "cell_type": "code",
      "metadata": {
        "colab": {
          "base_uri": "https://localhost:8080/",
          "height": 142
        },
        "id": "moYYUwGAYtnj",
        "outputId": "69127ee0-7f8c-4007-e427-b7ae0d870704"
      },
      "source": [
        "Wells_Pargo.quarterly_balance_sheet.tail(3)     #   분기별 balance_sheet"
      ],
      "execution_count": 115,
      "outputs": [
        {
          "output_type": "execute_result",
          "data": {
            "text/html": [
              "<div>\n",
              "<style scoped>\n",
              "    .dataframe tbody tr th:only-of-type {\n",
              "        vertical-align: middle;\n",
              "    }\n",
              "\n",
              "    .dataframe tbody tr th {\n",
              "        vertical-align: top;\n",
              "    }\n",
              "\n",
              "    .dataframe thead th {\n",
              "        text-align: right;\n",
              "    }\n",
              "</style>\n",
              "<table border=\"1\" class=\"dataframe\">\n",
              "  <thead>\n",
              "    <tr style=\"text-align: right;\">\n",
              "      <th></th>\n",
              "      <th>2020-12-31</th>\n",
              "      <th>2020-09-30</th>\n",
              "      <th>2020-06-30</th>\n",
              "      <th>2020-03-31</th>\n",
              "    </tr>\n",
              "  </thead>\n",
              "  <tbody>\n",
              "    <tr>\n",
              "      <th>Long Term Debt</th>\n",
              "      <td>188510000000</td>\n",
              "      <td>211367000000</td>\n",
              "      <td>219303000000</td>\n",
              "      <td>213157000000</td>\n",
              "    </tr>\n",
              "    <tr>\n",
              "      <th>Inventory</th>\n",
              "      <td>159000000</td>\n",
              "      <td>156000000</td>\n",
              "      <td>195000000</td>\n",
              "      <td>252000000</td>\n",
              "    </tr>\n",
              "    <tr>\n",
              "      <th>Accounts Payable</th>\n",
              "      <td>1404381000000</td>\n",
              "      <td>1383215000000</td>\n",
              "      <td>1410711000000</td>\n",
              "      <td>1376532000000</td>\n",
              "    </tr>\n",
              "  </tbody>\n",
              "</table>\n",
              "</div>"
            ],
            "text/plain": [
              "                    2020-12-31    2020-09-30    2020-06-30    2020-03-31\n",
              "Long Term Debt    188510000000  211367000000  219303000000  213157000000\n",
              "Inventory            159000000     156000000     195000000     252000000\n",
              "Accounts Payable 1404381000000 1383215000000 1410711000000 1376532000000"
            ]
          },
          "metadata": {
            "tags": []
          },
          "execution_count": 115
        }
      ]
    },
    {
      "cell_type": "code",
      "metadata": {
        "colab": {
          "base_uri": "https://localhost:8080/",
          "height": 111
        },
        "id": "LqwwSImDw4up",
        "outputId": "4f1557cf-7c6d-4005-af23-723e73b49b4d"
      },
      "source": [
        "Wells_Pargo.calendar.head(2)                    #   주요 행사표, 일정표"
      ],
      "execution_count": 140,
      "outputs": [
        {
          "output_type": "execute_result",
          "data": {
            "text/html": [
              "<div>\n",
              "<style scoped>\n",
              "    .dataframe tbody tr th:only-of-type {\n",
              "        vertical-align: middle;\n",
              "    }\n",
              "\n",
              "    .dataframe tbody tr th {\n",
              "        vertical-align: top;\n",
              "    }\n",
              "\n",
              "    .dataframe thead th {\n",
              "        text-align: right;\n",
              "    }\n",
              "</style>\n",
              "<table border=\"1\" class=\"dataframe\">\n",
              "  <thead>\n",
              "    <tr style=\"text-align: right;\">\n",
              "      <th></th>\n",
              "      <th>Value</th>\n",
              "    </tr>\n",
              "  </thead>\n",
              "  <tbody>\n",
              "    <tr>\n",
              "      <th>Earnings Date</th>\n",
              "      <td>2021-04-14 00:00:00</td>\n",
              "    </tr>\n",
              "    <tr>\n",
              "      <th>Earnings Average</th>\n",
              "      <td>0.65</td>\n",
              "    </tr>\n",
              "  </tbody>\n",
              "</table>\n",
              "</div>"
            ],
            "text/plain": [
              "                                Value\n",
              "Earnings Date     2021-04-14 00:00:00\n",
              "Earnings Average                 0.65"
            ]
          },
          "metadata": {
            "tags": []
          },
          "execution_count": 140
        }
      ]
    },
    {
      "cell_type": "code",
      "metadata": {
        "colab": {
          "base_uri": "https://localhost:8080/",
          "height": 142
        },
        "id": "J6ZJnoKJYttl",
        "outputId": "13b9e463-fe5c-482d-c2ee-5380387988a6"
      },
      "source": [
        "Wells_Pargo.cashflow.head(3)                   #   현금흐름, 자금운용의"
      ],
      "execution_count": 113,
      "outputs": [
        {
          "output_type": "execute_result",
          "data": {
            "text/html": [
              "<div>\n",
              "<style scoped>\n",
              "    .dataframe tbody tr th:only-of-type {\n",
              "        vertical-align: middle;\n",
              "    }\n",
              "\n",
              "    .dataframe tbody tr th {\n",
              "        vertical-align: top;\n",
              "    }\n",
              "\n",
              "    .dataframe thead th {\n",
              "        text-align: right;\n",
              "    }\n",
              "</style>\n",
              "<table border=\"1\" class=\"dataframe\">\n",
              "  <thead>\n",
              "    <tr style=\"text-align: right;\">\n",
              "      <th></th>\n",
              "      <th>2020-12-31</th>\n",
              "      <th>2019-12-31</th>\n",
              "      <th>2018-12-31</th>\n",
              "      <th>2017-12-31</th>\n",
              "    </tr>\n",
              "  </thead>\n",
              "  <tbody>\n",
              "    <tr>\n",
              "      <th>Investments</th>\n",
              "      <td>28663000000</td>\n",
              "      <td>3226000000</td>\n",
              "      <td>-5279000000</td>\n",
              "      <td>-3512000000</td>\n",
              "    </tr>\n",
              "    <tr>\n",
              "      <th>Change To Liabilities</th>\n",
              "      <td>-3314000000</td>\n",
              "      <td>-3246000000</td>\n",
              "      <td>1970000000</td>\n",
              "      <td>666000000</td>\n",
              "    </tr>\n",
              "    <tr>\n",
              "      <th>Total Cashflows From Investing Activities</th>\n",
              "      <td>122554000000</td>\n",
              "      <td>-29631000000</td>\n",
              "      <td>-7754000000</td>\n",
              "      <td>-13152000000</td>\n",
              "    </tr>\n",
              "  </tbody>\n",
              "</table>\n",
              "</div>"
            ],
            "text/plain": [
              "                                            2020-12-31  ...   2017-12-31\n",
              "Investments                                28663000000  ...  -3512000000\n",
              "Change To Liabilities                      -3314000000  ...    666000000\n",
              "Total Cashflows From Investing Activities 122554000000  ... -13152000000\n",
              "\n",
              "[3 rows x 4 columns]"
            ]
          },
          "metadata": {
            "tags": []
          },
          "execution_count": 113
        }
      ]
    },
    {
      "cell_type": "code",
      "metadata": {
        "colab": {
          "base_uri": "https://localhost:8080/",
          "height": 142
        },
        "id": "X4JkEtNGcnj_",
        "outputId": "a9102a21-2dbb-405a-c45c-1ffad7d75568"
      },
      "source": [
        "Wells_Pargo.quarterly_cashflow.head(3)          #   분기별 cashflow"
      ],
      "execution_count": 114,
      "outputs": [
        {
          "output_type": "execute_result",
          "data": {
            "text/html": [
              "<div>\n",
              "<style scoped>\n",
              "    .dataframe tbody tr th:only-of-type {\n",
              "        vertical-align: middle;\n",
              "    }\n",
              "\n",
              "    .dataframe tbody tr th {\n",
              "        vertical-align: top;\n",
              "    }\n",
              "\n",
              "    .dataframe thead th {\n",
              "        text-align: right;\n",
              "    }\n",
              "</style>\n",
              "<table border=\"1\" class=\"dataframe\">\n",
              "  <thead>\n",
              "    <tr style=\"text-align: right;\">\n",
              "      <th></th>\n",
              "      <th>2020-12-31</th>\n",
              "      <th>2020-09-30</th>\n",
              "      <th>2020-06-30</th>\n",
              "      <th>2020-03-31</th>\n",
              "    </tr>\n",
              "  </thead>\n",
              "  <tbody>\n",
              "    <tr>\n",
              "      <th>Investments</th>\n",
              "      <td>-2264000000</td>\n",
              "      <td>8186000000</td>\n",
              "      <td>33016000000</td>\n",
              "      <td>-10275000000</td>\n",
              "    </tr>\n",
              "    <tr>\n",
              "      <th>Change To Liabilities</th>\n",
              "      <td>-1667000000</td>\n",
              "      <td>-289000000</td>\n",
              "      <td>90000000</td>\n",
              "      <td>-1448000000</td>\n",
              "    </tr>\n",
              "    <tr>\n",
              "      <th>Total Cashflows From Investing Activities</th>\n",
              "      <td>20512000000</td>\n",
              "      <td>42658000000</td>\n",
              "      <td>103687000000</td>\n",
              "      <td>-44303000000</td>\n",
              "    </tr>\n",
              "  </tbody>\n",
              "</table>\n",
              "</div>"
            ],
            "text/plain": [
              "                                           2020-12-31  ...   2020-03-31\n",
              "Investments                               -2264000000  ... -10275000000\n",
              "Change To Liabilities                     -1667000000  ...  -1448000000\n",
              "Total Cashflows From Investing Activities 20512000000  ... -44303000000\n",
              "\n",
              "[3 rows x 4 columns]"
            ]
          },
          "metadata": {
            "tags": []
          },
          "execution_count": 114
        }
      ]
    },
    {
      "cell_type": "code",
      "metadata": {
        "colab": {
          "base_uri": "https://localhost:8080/"
        },
        "id": "yjEjVpt7eIew",
        "outputId": "8b121454-3262-439e-e99d-aab8a05e22e5"
      },
      "source": [
        "Wells_Pargo.dividends.tail()                    #   배당금\n",
        "#type(Wells_Pargo.dividends)"
      ],
      "execution_count": 141,
      "outputs": [
        {
          "output_type": "execute_result",
          "data": {
            "text/plain": [
              "Date\n",
              "2020-02-06    0.51\n",
              "2020-05-07    0.51\n",
              "2020-08-06    0.10\n",
              "2020-11-05    0.10\n",
              "2021-02-04    0.10\n",
              "Name: Dividends, dtype: float64"
            ]
          },
          "metadata": {
            "tags": []
          },
          "execution_count": 141
        }
      ]
    },
    {
      "cell_type": "code",
      "metadata": {
        "colab": {
          "base_uri": "https://localhost:8080/",
          "height": 173
        },
        "id": "CHAoE2p1fXUY",
        "outputId": "38eadefe-7fc1-4567-a1b6-0661e85aeaa3"
      },
      "source": [
        "Wells_Pargo.earnings.tail(3)                    #   수입"
      ],
      "execution_count": 112,
      "outputs": [
        {
          "output_type": "execute_result",
          "data": {
            "text/html": [
              "<div>\n",
              "<style scoped>\n",
              "    .dataframe tbody tr th:only-of-type {\n",
              "        vertical-align: middle;\n",
              "    }\n",
              "\n",
              "    .dataframe tbody tr th {\n",
              "        vertical-align: top;\n",
              "    }\n",
              "\n",
              "    .dataframe thead th {\n",
              "        text-align: right;\n",
              "    }\n",
              "</style>\n",
              "<table border=\"1\" class=\"dataframe\">\n",
              "  <thead>\n",
              "    <tr style=\"text-align: right;\">\n",
              "      <th></th>\n",
              "      <th>Revenue</th>\n",
              "      <th>Earnings</th>\n",
              "    </tr>\n",
              "    <tr>\n",
              "      <th>Year</th>\n",
              "      <th></th>\n",
              "      <th></th>\n",
              "    </tr>\n",
              "  </thead>\n",
              "  <tbody>\n",
              "    <tr>\n",
              "      <th>2018</th>\n",
              "      <td>84696000000</td>\n",
              "      <td>22393000000</td>\n",
              "    </tr>\n",
              "    <tr>\n",
              "      <th>2019</th>\n",
              "      <td>82458000000</td>\n",
              "      <td>19549000000</td>\n",
              "    </tr>\n",
              "    <tr>\n",
              "      <th>2020</th>\n",
              "      <td>58319000000</td>\n",
              "      <td>3301000000</td>\n",
              "    </tr>\n",
              "  </tbody>\n",
              "</table>\n",
              "</div>"
            ],
            "text/plain": [
              "          Revenue     Earnings\n",
              "Year                          \n",
              "2018  84696000000  22393000000\n",
              "2019  82458000000  19549000000\n",
              "2020  58319000000   3301000000"
            ]
          },
          "metadata": {
            "tags": []
          },
          "execution_count": 112
        }
      ]
    },
    {
      "cell_type": "code",
      "metadata": {
        "colab": {
          "base_uri": "https://localhost:8080/",
          "height": 204
        },
        "id": "RHJ6-82HfYYq",
        "outputId": "55356d7a-46fa-4e76-dc00-77eada0610a6"
      },
      "source": [
        "Wells_Pargo.quarterly_earnings.tail()          #   분기별_earnings"
      ],
      "execution_count": 95,
      "outputs": [
        {
          "output_type": "execute_result",
          "data": {
            "text/html": [
              "<div>\n",
              "<style scoped>\n",
              "    .dataframe tbody tr th:only-of-type {\n",
              "        vertical-align: middle;\n",
              "    }\n",
              "\n",
              "    .dataframe tbody tr th {\n",
              "        vertical-align: top;\n",
              "    }\n",
              "\n",
              "    .dataframe thead th {\n",
              "        text-align: right;\n",
              "    }\n",
              "</style>\n",
              "<table border=\"1\" class=\"dataframe\">\n",
              "  <thead>\n",
              "    <tr style=\"text-align: right;\">\n",
              "      <th></th>\n",
              "      <th>Revenue</th>\n",
              "      <th>Earnings</th>\n",
              "    </tr>\n",
              "    <tr>\n",
              "      <th>Quarter</th>\n",
              "      <th></th>\n",
              "      <th></th>\n",
              "    </tr>\n",
              "  </thead>\n",
              "  <tbody>\n",
              "    <tr>\n",
              "      <th>1Q2020</th>\n",
              "      <td>13712000000</td>\n",
              "      <td>653000000</td>\n",
              "    </tr>\n",
              "    <tr>\n",
              "      <th>2Q2020</th>\n",
              "      <td>8332000000</td>\n",
              "      <td>-2379000000</td>\n",
              "    </tr>\n",
              "    <tr>\n",
              "      <th>3Q2020</th>\n",
              "      <td>18100000000</td>\n",
              "      <td>2035000000</td>\n",
              "    </tr>\n",
              "    <tr>\n",
              "      <th>4Q2020</th>\n",
              "      <td>18175000000</td>\n",
              "      <td>2992000000</td>\n",
              "    </tr>\n",
              "  </tbody>\n",
              "</table>\n",
              "</div>"
            ],
            "text/plain": [
              "             Revenue    Earnings\n",
              "Quarter                         \n",
              "1Q2020   13712000000   653000000\n",
              "2Q2020    8332000000 -2379000000\n",
              "3Q2020   18100000000  2035000000\n",
              "4Q2020   18175000000  2992000000"
            ]
          },
          "metadata": {
            "tags": []
          },
          "execution_count": 95
        }
      ]
    },
    {
      "cell_type": "code",
      "metadata": {
        "colab": {
          "base_uri": "https://localhost:8080/",
          "height": 111
        },
        "id": "aavwig_n4jE9",
        "outputId": "10cad48c-8755-4f05-8e24-fd1e020639cb"
      },
      "source": [
        "Wells_Pargo.financials.tail(2)                  #   재무재표  / Financial statements의 약어"
      ],
      "execution_count": 97,
      "outputs": [
        {
          "output_type": "execute_result",
          "data": {
            "text/html": [
              "<div>\n",
              "<style scoped>\n",
              "    .dataframe tbody tr th:only-of-type {\n",
              "        vertical-align: middle;\n",
              "    }\n",
              "\n",
              "    .dataframe tbody tr th {\n",
              "        vertical-align: top;\n",
              "    }\n",
              "\n",
              "    .dataframe thead th {\n",
              "        text-align: right;\n",
              "    }\n",
              "</style>\n",
              "<table border=\"1\" class=\"dataframe\">\n",
              "  <thead>\n",
              "    <tr style=\"text-align: right;\">\n",
              "      <th></th>\n",
              "      <th>2020-12-31</th>\n",
              "      <th>2019-12-31</th>\n",
              "      <th>2018-12-31</th>\n",
              "      <th>2017-12-31</th>\n",
              "    </tr>\n",
              "  </thead>\n",
              "  <tbody>\n",
              "    <tr>\n",
              "      <th>Net Income From Continuing Ops</th>\n",
              "      <td>3586000000</td>\n",
              "      <td>20041000000</td>\n",
              "      <td>22876000000</td>\n",
              "      <td>22460000000</td>\n",
              "    </tr>\n",
              "    <tr>\n",
              "      <th>Net Income Applicable To Common Shares</th>\n",
              "      <td>1710000000</td>\n",
              "      <td>17938000000</td>\n",
              "      <td>20689000000</td>\n",
              "      <td>20554000000</td>\n",
              "    </tr>\n",
              "  </tbody>\n",
              "</table>\n",
              "</div>"
            ],
            "text/plain": [
              "                                       2020-12-31  ...  2017-12-31\n",
              "Net Income From Continuing Ops         3586000000  ... 22460000000\n",
              "Net Income Applicable To Common Shares 1710000000  ... 20554000000\n",
              "\n",
              "[2 rows x 4 columns]"
            ]
          },
          "metadata": {
            "tags": []
          },
          "execution_count": 97
        }
      ]
    },
    {
      "cell_type": "code",
      "metadata": {
        "colab": {
          "base_uri": "https://localhost:8080/",
          "height": 111
        },
        "id": "Mx3DG0ci4jMg",
        "outputId": "46501218-db69-45d3-8d0f-f6d4e7463911"
      },
      "source": [
        "Wells_Pargo.quarterly_financials.tail(2)        #   분기별 재무재표"
      ],
      "execution_count": 99,
      "outputs": [
        {
          "output_type": "execute_result",
          "data": {
            "text/html": [
              "<div>\n",
              "<style scoped>\n",
              "    .dataframe tbody tr th:only-of-type {\n",
              "        vertical-align: middle;\n",
              "    }\n",
              "\n",
              "    .dataframe tbody tr th {\n",
              "        vertical-align: top;\n",
              "    }\n",
              "\n",
              "    .dataframe thead th {\n",
              "        text-align: right;\n",
              "    }\n",
              "</style>\n",
              "<table border=\"1\" class=\"dataframe\">\n",
              "  <thead>\n",
              "    <tr style=\"text-align: right;\">\n",
              "      <th></th>\n",
              "      <th>2020-12-31</th>\n",
              "      <th>2020-09-30</th>\n",
              "      <th>2020-06-30</th>\n",
              "      <th>2020-03-31</th>\n",
              "    </tr>\n",
              "  </thead>\n",
              "  <tbody>\n",
              "    <tr>\n",
              "      <th>Net Income From Continuing Ops</th>\n",
              "      <td>3194000000</td>\n",
              "      <td>2219000000</td>\n",
              "      <td>-2332000000</td>\n",
              "      <td>505000000</td>\n",
              "    </tr>\n",
              "    <tr>\n",
              "      <th>Net Income Applicable To Common Shares</th>\n",
              "      <td>2642000000</td>\n",
              "      <td>1720000000</td>\n",
              "      <td>-2694000000</td>\n",
              "      <td>42000000</td>\n",
              "    </tr>\n",
              "  </tbody>\n",
              "</table>\n",
              "</div>"
            ],
            "text/plain": [
              "                                       2020-12-31  ... 2020-03-31\n",
              "Net Income From Continuing Ops         3194000000  ...  505000000\n",
              "Net Income Applicable To Common Shares 2642000000  ...   42000000\n",
              "\n",
              "[2 rows x 4 columns]"
            ]
          },
          "metadata": {
            "tags": []
          },
          "execution_count": 99
        }
      ]
    },
    {
      "cell_type": "code",
      "metadata": {
        "colab": {
          "base_uri": "https://localhost:8080/",
          "height": 142
        },
        "id": "cipHK-DS4jUM",
        "outputId": "06f7d481-3eb7-4fc1-da4b-206d220dea03"
      },
      "source": [
        "Wells_Pargo.institutional_holders.head(3)       #   기관투자자"
      ],
      "execution_count": 142,
      "outputs": [
        {
          "output_type": "execute_result",
          "data": {
            "text/html": [
              "<div>\n",
              "<style scoped>\n",
              "    .dataframe tbody tr th:only-of-type {\n",
              "        vertical-align: middle;\n",
              "    }\n",
              "\n",
              "    .dataframe tbody tr th {\n",
              "        vertical-align: top;\n",
              "    }\n",
              "\n",
              "    .dataframe thead th {\n",
              "        text-align: right;\n",
              "    }\n",
              "</style>\n",
              "<table border=\"1\" class=\"dataframe\">\n",
              "  <thead>\n",
              "    <tr style=\"text-align: right;\">\n",
              "      <th></th>\n",
              "      <th>Holder</th>\n",
              "      <th>Shares</th>\n",
              "      <th>Date Reported</th>\n",
              "      <th>% Out</th>\n",
              "      <th>Value</th>\n",
              "    </tr>\n",
              "  </thead>\n",
              "  <tbody>\n",
              "    <tr>\n",
              "      <th>0</th>\n",
              "      <td>Vanguard Group, Inc. (The)</td>\n",
              "      <td>316366883</td>\n",
              "      <td>2020-12-30</td>\n",
              "      <td>0.0765</td>\n",
              "      <td>9547952528</td>\n",
              "    </tr>\n",
              "    <tr>\n",
              "      <th>1</th>\n",
              "      <td>Blackrock Inc.</td>\n",
              "      <td>283859421</td>\n",
              "      <td>2020-12-30</td>\n",
              "      <td>0.0687</td>\n",
              "      <td>8566877325</td>\n",
              "    </tr>\n",
              "    <tr>\n",
              "      <th>2</th>\n",
              "      <td>State Street Corporation</td>\n",
              "      <td>167356515</td>\n",
              "      <td>2020-12-30</td>\n",
              "      <td>0.0405</td>\n",
              "      <td>5050819622</td>\n",
              "    </tr>\n",
              "  </tbody>\n",
              "</table>\n",
              "</div>"
            ],
            "text/plain": [
              "                       Holder     Shares Date Reported   % Out       Value\n",
              "0  Vanguard Group, Inc. (The)  316366883    2020-12-30  0.0765  9547952528\n",
              "1              Blackrock Inc.  283859421    2020-12-30  0.0687  8566877325\n",
              "2    State Street Corporation  167356515    2020-12-30  0.0405  5050819622"
            ]
          },
          "metadata": {
            "tags": []
          },
          "execution_count": 142
        }
      ]
    },
    {
      "cell_type": "code",
      "metadata": {
        "colab": {
          "base_uri": "https://localhost:8080/",
          "height": 35
        },
        "id": "yrlaB85Z4jYU",
        "outputId": "fb0b6307-595b-4a05-d27d-877bef080e21"
      },
      "source": [
        "Wells_Pargo.isin                        #   International Securities Identifier Number ( 국제 증권 식별 번호 )"
      ],
      "execution_count": 108,
      "outputs": [
        {
          "output_type": "execute_result",
          "data": {
            "application/vnd.google.colaboratory.intrinsic+json": {
              "type": "string"
            },
            "text/plain": [
              "'US9497461015'"
            ]
          },
          "metadata": {
            "tags": []
          },
          "execution_count": 108
        }
      ]
    },
    {
      "cell_type": "code",
      "metadata": {
        "colab": {
          "base_uri": "https://localhost:8080/",
          "height": 173
        },
        "id": "2lOLWi_I4jah",
        "outputId": "a7813ca4-7231-4147-d8c9-73859e0b47a5"
      },
      "source": [
        "Wells_Pargo.major_holders               #   대주주"
      ],
      "execution_count": 143,
      "outputs": [
        {
          "output_type": "execute_result",
          "data": {
            "text/html": [
              "<div>\n",
              "<style scoped>\n",
              "    .dataframe tbody tr th:only-of-type {\n",
              "        vertical-align: middle;\n",
              "    }\n",
              "\n",
              "    .dataframe tbody tr th {\n",
              "        vertical-align: top;\n",
              "    }\n",
              "\n",
              "    .dataframe thead th {\n",
              "        text-align: right;\n",
              "    }\n",
              "</style>\n",
              "<table border=\"1\" class=\"dataframe\">\n",
              "  <thead>\n",
              "    <tr style=\"text-align: right;\">\n",
              "      <th></th>\n",
              "      <th>0</th>\n",
              "      <th>1</th>\n",
              "    </tr>\n",
              "  </thead>\n",
              "  <tbody>\n",
              "    <tr>\n",
              "      <th>0</th>\n",
              "      <td>0.09%</td>\n",
              "      <td>% of Shares Held by All Insider</td>\n",
              "    </tr>\n",
              "    <tr>\n",
              "      <th>1</th>\n",
              "      <td>70.89%</td>\n",
              "      <td>% of Shares Held by Institutions</td>\n",
              "    </tr>\n",
              "    <tr>\n",
              "      <th>2</th>\n",
              "      <td>70.96%</td>\n",
              "      <td>% of Float Held by Institutions</td>\n",
              "    </tr>\n",
              "    <tr>\n",
              "      <th>3</th>\n",
              "      <td>2176</td>\n",
              "      <td>Number of Institutions Holding Shares</td>\n",
              "    </tr>\n",
              "  </tbody>\n",
              "</table>\n",
              "</div>"
            ],
            "text/plain": [
              "        0                                      1\n",
              "0   0.09%        % of Shares Held by All Insider\n",
              "1  70.89%       % of Shares Held by Institutions\n",
              "2  70.96%        % of Float Held by Institutions\n",
              "3    2176  Number of Institutions Holding Shares"
            ]
          },
          "metadata": {
            "tags": []
          },
          "execution_count": 143
        }
      ]
    },
    {
      "cell_type": "code",
      "metadata": {
        "colab": {
          "base_uri": "https://localhost:8080/",
          "height": 142
        },
        "id": "rAxqJuec4jcx",
        "outputId": "51c019b1-30e4-4778-c1f7-e78a0aea66c2"
      },
      "source": [
        "Wells_Pargo.mutualfund_holders.tail(3)          #   뮤추얼 펀드 (미국 투자 신탁(회사)의 일종) 주주"
      ],
      "execution_count": 144,
      "outputs": [
        {
          "output_type": "execute_result",
          "data": {
            "text/html": [
              "<div>\n",
              "<style scoped>\n",
              "    .dataframe tbody tr th:only-of-type {\n",
              "        vertical-align: middle;\n",
              "    }\n",
              "\n",
              "    .dataframe tbody tr th {\n",
              "        vertical-align: top;\n",
              "    }\n",
              "\n",
              "    .dataframe thead th {\n",
              "        text-align: right;\n",
              "    }\n",
              "</style>\n",
              "<table border=\"1\" class=\"dataframe\">\n",
              "  <thead>\n",
              "    <tr style=\"text-align: right;\">\n",
              "      <th></th>\n",
              "      <th>Holder</th>\n",
              "      <th>Shares</th>\n",
              "      <th>Date Reported</th>\n",
              "      <th>% Out</th>\n",
              "      <th>Value</th>\n",
              "    </tr>\n",
              "  </thead>\n",
              "  <tbody>\n",
              "    <tr>\n",
              "      <th>7</th>\n",
              "      <td>iShares Core S&amp;P 500 ETF</td>\n",
              "      <td>31862266</td>\n",
              "      <td>2021-02-27</td>\n",
              "      <td>0.0077</td>\n",
              "      <td>1152458161</td>\n",
              "    </tr>\n",
              "    <tr>\n",
              "      <th>8</th>\n",
              "      <td>Vanguard/Primecap Fund</td>\n",
              "      <td>29723527</td>\n",
              "      <td>2020-12-30</td>\n",
              "      <td>0.0072</td>\n",
              "      <td>897056044</td>\n",
              "    </tr>\n",
              "    <tr>\n",
              "      <th>9</th>\n",
              "      <td>Vanguard Index-Value Index Fund</td>\n",
              "      <td>26458986</td>\n",
              "      <td>2020-12-30</td>\n",
              "      <td>0.0064</td>\n",
              "      <td>798532197</td>\n",
              "    </tr>\n",
              "  </tbody>\n",
              "</table>\n",
              "</div>"
            ],
            "text/plain": [
              "                            Holder    Shares Date Reported   % Out       Value\n",
              "7         iShares Core S&P 500 ETF  31862266    2021-02-27  0.0077  1152458161\n",
              "8           Vanguard/Primecap Fund  29723527    2020-12-30  0.0072   897056044\n",
              "9  Vanguard Index-Value Index Fund  26458986    2020-12-30  0.0064   798532197"
            ]
          },
          "metadata": {
            "tags": []
          },
          "execution_count": 144
        }
      ]
    },
    {
      "cell_type": "code",
      "metadata": {
        "colab": {
          "base_uri": "https://localhost:8080/"
        },
        "id": "-rBQhdTm4vY2",
        "outputId": "9b4aba48-fd74-41b6-dceb-babdc6883b70"
      },
      "source": [
        "Wells_Pargo.options                     #   선택권  / 옵션 날짜?"
      ],
      "execution_count": 118,
      "outputs": [
        {
          "output_type": "execute_result",
          "data": {
            "text/plain": [
              "('2021-04-09',\n",
              " '2021-04-16',\n",
              " '2021-04-23',\n",
              " '2021-04-30',\n",
              " '2021-05-07',\n",
              " '2021-05-14',\n",
              " '2021-05-21',\n",
              " '2021-06-18',\n",
              " '2021-07-16',\n",
              " '2021-09-17',\n",
              " '2021-10-15',\n",
              " '2022-01-21',\n",
              " '2022-06-17',\n",
              " '2023-01-20')"
            ]
          },
          "metadata": {
            "tags": []
          },
          "execution_count": 118
        }
      ]
    },
    {
      "cell_type": "code",
      "metadata": {
        "colab": {
          "base_uri": "https://localhost:8080/",
          "height": 235
        },
        "id": "BzN7UW8P4vgt",
        "outputId": "57242a3d-7684-49b9-953c-da4d3a5c83e2"
      },
      "source": [
        "Wells_Pargo.recommendations.tail()             #   추천사항, 애널리스트 평가정보"
      ],
      "execution_count": 121,
      "outputs": [
        {
          "output_type": "execute_result",
          "data": {
            "text/html": [
              "<div>\n",
              "<style scoped>\n",
              "    .dataframe tbody tr th:only-of-type {\n",
              "        vertical-align: middle;\n",
              "    }\n",
              "\n",
              "    .dataframe tbody tr th {\n",
              "        vertical-align: top;\n",
              "    }\n",
              "\n",
              "    .dataframe thead th {\n",
              "        text-align: right;\n",
              "    }\n",
              "</style>\n",
              "<table border=\"1\" class=\"dataframe\">\n",
              "  <thead>\n",
              "    <tr style=\"text-align: right;\">\n",
              "      <th></th>\n",
              "      <th>Firm</th>\n",
              "      <th>To Grade</th>\n",
              "      <th>From Grade</th>\n",
              "      <th>Action</th>\n",
              "    </tr>\n",
              "    <tr>\n",
              "      <th>Date</th>\n",
              "      <th></th>\n",
              "      <th></th>\n",
              "      <th></th>\n",
              "      <th></th>\n",
              "    </tr>\n",
              "  </thead>\n",
              "  <tbody>\n",
              "    <tr>\n",
              "      <th>2021-02-18 11:28:51</th>\n",
              "      <td>JP Morgan</td>\n",
              "      <td>Neutral</td>\n",
              "      <td>Underweight</td>\n",
              "      <td>up</td>\n",
              "    </tr>\n",
              "    <tr>\n",
              "      <th>2021-02-24 12:28:35</th>\n",
              "      <td>Raymond James</td>\n",
              "      <td>Outperform</td>\n",
              "      <td></td>\n",
              "      <td>main</td>\n",
              "    </tr>\n",
              "    <tr>\n",
              "      <th>2021-03-01 14:42:38</th>\n",
              "      <td>Morgan Stanley</td>\n",
              "      <td>Overweight</td>\n",
              "      <td></td>\n",
              "      <td>main</td>\n",
              "    </tr>\n",
              "    <tr>\n",
              "      <th>2021-03-10 16:00:06</th>\n",
              "      <td>Morgan Stanley</td>\n",
              "      <td>Overweight</td>\n",
              "      <td></td>\n",
              "      <td>main</td>\n",
              "    </tr>\n",
              "    <tr>\n",
              "      <th>2021-04-01 11:13:43</th>\n",
              "      <td>Deutsche Bank</td>\n",
              "      <td>Buy</td>\n",
              "      <td></td>\n",
              "      <td>main</td>\n",
              "    </tr>\n",
              "  </tbody>\n",
              "</table>\n",
              "</div>"
            ],
            "text/plain": [
              "                               Firm    To Grade   From Grade Action\n",
              "Date                                                               \n",
              "2021-02-18 11:28:51       JP Morgan     Neutral  Underweight     up\n",
              "2021-02-24 12:28:35   Raymond James  Outperform                main\n",
              "2021-03-01 14:42:38  Morgan Stanley  Overweight                main\n",
              "2021-03-10 16:00:06  Morgan Stanley  Overweight                main\n",
              "2021-04-01 11:13:43   Deutsche Bank         Buy                main"
            ]
          },
          "metadata": {
            "tags": []
          },
          "execution_count": 121
        }
      ]
    },
    {
      "cell_type": "code",
      "metadata": {
        "colab": {
          "base_uri": "https://localhost:8080/"
        },
        "id": "AfH9G8R_4vnw",
        "outputId": "21027c3e-4404-49de-bb49-0bf67c25babb"
      },
      "source": [
        "Wells_Pargo.splits                      #   분할"
      ],
      "execution_count": 145,
      "outputs": [
        {
          "output_type": "execute_result",
          "data": {
            "text/plain": [
              "Date\n",
              "1977-06-20    2.0\n",
              "1988-07-01    1.5\n",
              "1989-07-24    2.0\n",
              "1993-06-29    2.0\n",
              "1997-10-14    2.0\n",
              "2006-08-14    2.0\n",
              "Name: Stock Splits, dtype: float64"
            ]
          },
          "metadata": {
            "tags": []
          },
          "execution_count": 145
        }
      ]
    },
    {
      "cell_type": "code",
      "metadata": {
        "colab": {
          "base_uri": "https://localhost:8080/",
          "height": 173
        },
        "id": "INeeOllp4vvq",
        "outputId": "f90ccf1c-95ff-4bc7-c3ad-dee40f220261"
      },
      "source": [
        "Wells_Pargo.sustainability.tail(3)              #   지속가능성"
      ],
      "execution_count": 146,
      "outputs": [
        {
          "output_type": "execute_result",
          "data": {
            "text/html": [
              "<div>\n",
              "<style scoped>\n",
              "    .dataframe tbody tr th:only-of-type {\n",
              "        vertical-align: middle;\n",
              "    }\n",
              "\n",
              "    .dataframe tbody tr th {\n",
              "        vertical-align: top;\n",
              "    }\n",
              "\n",
              "    .dataframe thead th {\n",
              "        text-align: right;\n",
              "    }\n",
              "</style>\n",
              "<table border=\"1\" class=\"dataframe\">\n",
              "  <thead>\n",
              "    <tr style=\"text-align: right;\">\n",
              "      <th></th>\n",
              "      <th>Value</th>\n",
              "    </tr>\n",
              "    <tr>\n",
              "      <th>2021-3</th>\n",
              "      <th></th>\n",
              "    </tr>\n",
              "  </thead>\n",
              "  <tbody>\n",
              "    <tr>\n",
              "      <th>environmentScore</th>\n",
              "      <td>1.25</td>\n",
              "    </tr>\n",
              "    <tr>\n",
              "      <th>governancePercentile</th>\n",
              "      <td>None</td>\n",
              "    </tr>\n",
              "    <tr>\n",
              "      <th>militaryContract</th>\n",
              "      <td>False</td>\n",
              "    </tr>\n",
              "  </tbody>\n",
              "</table>\n",
              "</div>"
            ],
            "text/plain": [
              "                      Value\n",
              "2021-3                     \n",
              "environmentScore       1.25\n",
              "governancePercentile   None\n",
              "militaryContract      False"
            ]
          },
          "metadata": {
            "tags": []
          },
          "execution_count": 146
        }
      ]
    },
    {
      "cell_type": "code",
      "metadata": {
        "colab": {
          "base_uri": "https://localhost:8080/",
          "height": 35
        },
        "id": "aRZVN8go4v3_",
        "outputId": "199077ac-f46c-4d98-a7da-8ceea69c3bd6"
      },
      "source": [
        "Wells_Pargo.ticker                      #   주식 시세 표시기"
      ],
      "execution_count": 125,
      "outputs": [
        {
          "output_type": "execute_result",
          "data": {
            "application/vnd.google.colaboratory.intrinsic+json": {
              "type": "string"
            },
            "text/plain": [
              "'WFC'"
            ]
          },
          "metadata": {
            "tags": []
          },
          "execution_count": 125
        }
      ]
    },
    {
      "cell_type": "code",
      "metadata": {
        "colab": {
          "base_uri": "https://localhost:8080/"
        },
        "id": "YgSX47WY4jRI",
        "outputId": "ae42ff1e-32a8-4881-d95b-144b7a1b7405"
      },
      "source": [
        "Wells_Pargo.info   #   NASDAQ Symbols : Infonautics, Inc. 인포노틱스, 주식회사  / WFC 상세한 정보 parsing 해서 데이터 추출 가능해 보임"
      ],
      "execution_count": 105,
      "outputs": [
        {
          "output_type": "execute_result",
          "data": {
            "text/plain": [
              "{'52WeekChange': 0.38421237,\n",
              " 'SandP52WeekChange': 0.50914145,\n",
              " 'address1': '420 Montgomery Street',\n",
              " 'algorithm': None,\n",
              " 'annualHoldingsTurnover': None,\n",
              " 'annualReportExpenseRatio': None,\n",
              " 'ask': 0,\n",
              " 'askSize': 3000,\n",
              " 'averageDailyVolume10Day': 30448760,\n",
              " 'averageVolume': 36481975,\n",
              " 'averageVolume10days': 30448760,\n",
              " 'beta': 1.29144,\n",
              " 'beta3Year': None,\n",
              " 'bid': 0,\n",
              " 'bidSize': 1000,\n",
              " 'bookValue': 39.726,\n",
              " 'category': None,\n",
              " 'circulatingSupply': None,\n",
              " 'city': 'San Francisco',\n",
              " 'companyOfficers': [],\n",
              " 'country': 'United States',\n",
              " 'currency': 'USD',\n",
              " 'dateShortInterest': 1615766400,\n",
              " 'dayHigh': 39.65,\n",
              " 'dayLow': 38.92,\n",
              " 'dividendRate': 0.4,\n",
              " 'dividendYield': 0.0101,\n",
              " 'earningsQuarterlyGrowth': 0.041,\n",
              " 'enterpriseToEbitda': None,\n",
              " 'enterpriseToRevenue': 0.424,\n",
              " 'enterpriseValue': 24741648384,\n",
              " 'exDividendDate': 1612396800,\n",
              " 'exchange': 'NYQ',\n",
              " 'exchangeTimezoneName': 'America/New_York',\n",
              " 'exchangeTimezoneShortName': 'EDT',\n",
              " 'expireDate': None,\n",
              " 'fiftyDayAverage': 38.320606,\n",
              " 'fiftyTwoWeekHigh': 41.54,\n",
              " 'fiftyTwoWeekLow': 20.76,\n",
              " 'fiveYearAverageReturn': None,\n",
              " 'fiveYearAvgDividendYield': 3.73,\n",
              " 'floatShares': 4127533447,\n",
              " 'forwardEps': 3.25,\n",
              " 'forwardPE': 12.193847,\n",
              " 'fromCurrency': None,\n",
              " 'fullTimeEmployees': 268531,\n",
              " 'fundFamily': None,\n",
              " 'fundInceptionDate': None,\n",
              " 'gmtOffSetMilliseconds': '-14400000',\n",
              " 'heldPercentInsiders': 0.00093999994,\n",
              " 'heldPercentInstitutions': 0.70889,\n",
              " 'impliedSharesOutstanding': None,\n",
              " 'industry': 'Banks—Diversified',\n",
              " 'isEsgPopulated': False,\n",
              " 'lastCapGain': None,\n",
              " 'lastDividendDate': 1612396800,\n",
              " 'lastDividendValue': 0.1,\n",
              " 'lastFiscalYearEnd': 1609372800,\n",
              " 'lastMarket': None,\n",
              " 'lastSplitDate': 1155513600,\n",
              " 'lastSplitFactor': '2:1',\n",
              " 'legalType': None,\n",
              " 'logo_url': 'https://logo.clearbit.com/wellsfargo.com',\n",
              " 'longBusinessSummary': 'Wells Fargo & Company, a diversified financial services company, provides banking, investment, mortgage, and consumer and commercial finance products and services to individuals, businesses, and institutions in the United States and internationally. It operates in four segments: Consumer Banking and Lending; Commercial Banking; Corporate and Investment Banking; and Wealth and Investment Management. The Consumer Banking and Lending segment offers checking and savings accounts; credit and debit cards; and home, auto, personal, and small business lending products. The Commercial banking segment provides banking and credit products across multiple industry sectors and municipalities; and treasury management, secured lending, and lease products. The Corporate and Investment Banking segment provides corporate banking, investment banking, treasury management, commercial real estate lending and servicing, sales, trading, research capabilities, and equity and fixed income solutions to corporate, commercial real estate, government, and institutional clients. The Wealth and Investment Management segment provides personalized wealth management, investment, and retirement products and services; and delivers financial planning, private banking, credit, investment management, and fiduciary services. The company also offers brokerage, and Internet and mobile banking services. Wells Fargo & Company was founded in 1852 and is headquartered in San Francisco, California.',\n",
              " 'longName': 'Wells Fargo & Company',\n",
              " 'market': 'us_market',\n",
              " 'marketCap': 163835969536,\n",
              " 'maxAge': 1,\n",
              " 'maxSupply': None,\n",
              " 'messageBoardId': 'finmb_292891',\n",
              " 'morningStarOverallRating': None,\n",
              " 'morningStarRiskRating': None,\n",
              " 'mostRecentQuarter': 1609372800,\n",
              " 'navPrice': None,\n",
              " 'netIncomeToCommon': 1710000000,\n",
              " 'nextFiscalYearEnd': 1672444800,\n",
              " 'open': 38.96,\n",
              " 'openInterest': None,\n",
              " 'payoutRatio': 2.9756,\n",
              " 'pegRatio': 0.13,\n",
              " 'phone': '866-249-3302',\n",
              " 'previousClose': 39.07,\n",
              " 'priceHint': 2,\n",
              " 'priceToBook': 0.99758345,\n",
              " 'priceToSalesTrailing12Months': 2.8093069,\n",
              " 'profitMargins': 0.056599997,\n",
              " 'quoteType': 'EQUITY',\n",
              " 'regularMarketDayHigh': 39.65,\n",
              " 'regularMarketDayLow': 38.92,\n",
              " 'regularMarketOpen': 38.96,\n",
              " 'regularMarketPreviousClose': 39.07,\n",
              " 'regularMarketPrice': 39.63,\n",
              " 'regularMarketVolume': 22706933,\n",
              " 'revenueQuarterlyGrowth': None,\n",
              " 'sector': 'Financial Services',\n",
              " 'sharesOutstanding': 4134139904,\n",
              " 'sharesPercentSharesOut': 0.014099999,\n",
              " 'sharesShort': 58473871,\n",
              " 'sharesShortPreviousMonthDate': 1613088000,\n",
              " 'sharesShortPriorMonth': 45896921,\n",
              " 'shortName': 'Wells Fargo & Company',\n",
              " 'shortPercentOfFloat': 0.014199999,\n",
              " 'shortRatio': 1.56,\n",
              " 'startDate': None,\n",
              " 'state': 'CA',\n",
              " 'strikePrice': None,\n",
              " 'symbol': 'WFC',\n",
              " 'threeYearAverageReturn': None,\n",
              " 'toCurrency': None,\n",
              " 'totalAssets': None,\n",
              " 'tradeable': False,\n",
              " 'trailingAnnualDividendRate': 1.22,\n",
              " 'trailingAnnualDividendYield': 0.031226005,\n",
              " 'trailingEps': 0.41,\n",
              " 'trailingPE': 96.65854,\n",
              " 'twoHundredDayAverage': 30.105146,\n",
              " 'volume': 22706933,\n",
              " 'volume24Hr': None,\n",
              " 'volumeAllCurrencies': None,\n",
              " 'website': 'http://www.wellsfargo.com',\n",
              " 'yield': None,\n",
              " 'ytdReturn': None,\n",
              " 'zip': '94104'}"
            ]
          },
          "metadata": {
            "tags": []
          },
          "execution_count": 105
        }
      ]
    },
    {
      "cell_type": "markdown",
      "metadata": {
        "id": "p-S53SF4YUJq"
      },
      "source": [
        "**FMP 재무재표 API 회사**\n",
        "\n",
        "https://junyoru.tistory.com/130?category=471312\n",
        "\n",
        "미국 재무재표 불러오기.\n",
        "\n",
        "\n",
        "**FRED API**\n",
        "\n",
        "https://junyoru.tistory.com/122?category=471312\n",
        "\n",
        "미국 경제데이터 불러오기"
      ]
    }
  ]
}