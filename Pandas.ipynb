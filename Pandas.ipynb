{
  "nbformat": 4,
  "nbformat_minor": 0,
  "metadata": {
    "colab": {
      "name": "Pandas.ipynb",
      "provenance": [],
      "collapsed_sections": [
        "frkHGw6qIwoy"
      ],
      "authorship_tag": "ABX9TyMwIx7YxHyqf2NgypPB+SVr",
      "include_colab_link": true
    },
    "kernelspec": {
      "name": "python3",
      "display_name": "Python 3"
    },
    "language_info": {
      "name": "python"
    }
  },
  "cells": [
    {
      "cell_type": "markdown",
      "metadata": {
        "id": "view-in-github",
        "colab_type": "text"
      },
      "source": [
        "<a href=\"https://colab.research.google.com/github/you9222/Digital_Finance/blob/main/Pandas.ipynb\" target=\"_parent\"><img src=\"https://colab.research.google.com/assets/colab-badge.svg\" alt=\"Open In Colab\"/></a>"
      ]
    },
    {
      "cell_type": "markdown",
      "metadata": {
        "id": "3fc4lR0x5Rk6"
      },
      "source": [
        "# **3부 데이터 분석 기초**\n",
        "\n",
        "# 01 - pandas Series"
      ]
    },
    {
      "cell_type": "code",
      "metadata": {
        "colab": {
          "base_uri": "https://localhost:8080/"
        },
        "id": "i1zrPYEw26Cr",
        "outputId": "933ed9ae-7ba7-4cfd-f913-f483099d4d35"
      },
      "source": [
        "BigTechStock = ['kakao', 'naver']  # 리스트 사용 예제  p.329\n",
        "print(BigTechStock[0])\n",
        "print(BigTechStock[1])"
      ],
      "execution_count": null,
      "outputs": [
        {
          "output_type": "stream",
          "text": [
            "kakao\n",
            "naver\n"
          ],
          "name": "stdout"
        }
      ]
    },
    {
      "cell_type": "code",
      "metadata": {
        "colab": {
          "base_uri": "https://localhost:8080/"
        },
        "id": "TWQBr1qT5QZS",
        "outputId": "b6f60620-a0ee-4e3a-89de-cdc09dc6ee08"
      },
      "source": [
        "for stock in BigTechStock : # 리스트 for 활용  insert, append, index 등 활용 ( 3장 내용 )\n",
        "  print(stock)"
      ],
      "execution_count": null,
      "outputs": [
        {
          "output_type": "stream",
          "text": [
            "kakao\n",
            "naver\n"
          ],
          "name": "stdout"
        }
      ]
    },
    {
      "cell_type": "markdown",
      "metadata": {
        "id": "LwnafB-364ST"
      },
      "source": [
        "`// 튜플 () 사용 수정이 불가능하지만 리스트에 비해 빠름`\n",
        "\n"
      ]
    },
    {
      "cell_type": "code",
      "metadata": {
        "colab": {
          "base_uri": "https://localhost:8080/"
        },
        "id": "VeIvioyJ6OAQ",
        "outputId": "5601dfda-98b8-4029-d775-d993513aa081"
      },
      "source": [
        "exam_dic = {'key1' : 'room1', 'key2' : 'room2'}  # 딕셔너리 key - Value 관계로 쌓으로 저장,\n",
        "print(exam_dic['key1'])                          # 키로 바로 데이터 찾을 수 있음\n",
        "print(exam_dic['key2'])"
      ],
      "execution_count": null,
      "outputs": [
        {
          "output_type": "stream",
          "text": [
            "room1\n",
            "room2\n"
          ],
          "name": "stdout"
        }
      ]
    },
    {
      "cell_type": "code",
      "metadata": {
        "colab": {
          "base_uri": "https://localhost:8080/"
        },
        "id": "t4aYXCjM8JkE",
        "outputId": "e3655ec8-4404-46ec-fdb2-9c78579345be"
      },
      "source": [
        "kakao_daily_closing_prices = {'2021-02-19' : 92600,       # 카카오 5일 종가 데이터 - 딕셔너리\n",
        "                              '2021-02-18' : 92400,\n",
        "                              '2021-02-17' : 92100,\n",
        "                              '2021-02-16' : 94300,\n",
        "                              '2021-02-15' : 92300,}\n",
        "print(kakao_daily_closing_prices['2021-02-19'])"
      ],
      "execution_count": null,
      "outputs": [
        {
          "output_type": "stream",
          "text": [
            "92600\n"
          ],
          "name": "stdout"
        }
      ]
    },
    {
      "cell_type": "markdown",
      "metadata": {
        "id": "60C4Y_bd9oIl"
      },
      "source": [
        "**series 기초**\n",
        "\n",
        "series는 리스트와 딕셔너리를 닮음."
      ]
    },
    {
      "cell_type": "code",
      "metadata": {
        "colab": {
          "base_uri": "https://localhost:8080/"
        },
        "id": "oTfMGhF89Prm",
        "outputId": "10f9b7dd-b064-4f34-dfa3-e92f428f26c0"
      },
      "source": [
        "from pandas import Series, DataFrame    # Series : Class 이며, 생성자로 리스트를 넘겨주면 객체를 생성함\n",
        "\n",
        "kakao = Series([92600, 92400, 92100, 94300, 92300])\n",
        "\n",
        "print(kakao)\n",
        "\n",
        "print(kakao[0])"
      ],
      "execution_count": null,
      "outputs": [
        {
          "output_type": "stream",
          "text": [
            "0    92600\n",
            "1    92400\n",
            "2    92100\n",
            "3    94300\n",
            "4    92300\n",
            "dtype: int64\n",
            "92600\n"
          ],
          "name": "stdout"
        }
      ]
    },
    {
      "cell_type": "code",
      "metadata": {
        "colab": {
          "base_uri": "https://localhost:8080/"
        },
        "id": "GvovVfE2BXSc",
        "outputId": "63c772ac-a931-4e21-9995-5ee87441e7e6"
      },
      "source": [
        "kakao_2 = Series([92600, 92400, 92100, 94300, 92300], \n",
        "                 index =['2021-02-19',\n",
        "                          '2021-02-18',\n",
        "                          '2021-02-17',\n",
        "                          '2021-02-16',\n",
        "                          '2021-02-15'])     # Series 날짜 데이터와 같이 저장\n",
        "print(kakao_2)"
      ],
      "execution_count": null,
      "outputs": [
        {
          "output_type": "stream",
          "text": [
            "2021-02-19    92600\n",
            "2021-02-18    92400\n",
            "2021-02-17    92100\n",
            "2021-02-16    94300\n",
            "2021-02-15    92300\n",
            "dtype: int64\n"
          ],
          "name": "stdout"
        }
      ]
    },
    {
      "cell_type": "code",
      "metadata": {
        "colab": {
          "base_uri": "https://localhost:8080/"
        },
        "id": "dmeaQ-7wB7ZE",
        "outputId": "3ea6e3e8-312f-445c-8539-584744200e99"
      },
      "source": [
        "#  index 랑 values 각각 출력\n",
        "#  그 외, Series 는 순서가 달라도 같은 index면 알아서 합쳐줌\n",
        "for k_index in kakao_2.index :\n",
        "  print(k_index)\n",
        "\n",
        "for k_values in kakao_2.values : \n",
        "  print(k_values)"
      ],
      "execution_count": null,
      "outputs": [
        {
          "output_type": "stream",
          "text": [
            "2021-02-19\n",
            "2021-02-18\n",
            "2021-02-17\n",
            "2021-02-16\n",
            "2021-02-15\n",
            "92600\n",
            "92400\n",
            "92100\n",
            "94300\n",
            "92300\n"
          ],
          "name": "stdout"
        }
      ]
    },
    {
      "cell_type": "markdown",
      "metadata": {
        "id": "dD71stGZEUoI"
      },
      "source": [
        "# 02 - pandas DataFrame"
      ]
    },
    {
      "cell_type": "code",
      "metadata": {
        "id": "ZZ5nLITJEbgP",
        "colab": {
          "base_uri": "https://localhost:8080/"
        },
        "outputId": "910d20b1-a456-4c83-f197-2962a29a6a74"
      },
      "source": [
        "# DataFrame 생성\n",
        "\n",
        "from pandas import Series, DataFrame  \n",
        "\n",
        "OHLC_EX = {'open' : [11650, 11100, 11200, 11100, 11000],\n",
        "           'low'  : [11600, 11050, 10900, 10950, 10900],\n",
        "           'high' : [12100, 11800, 11200, 11100, 11150],\n",
        "           'close': [11900, 11600, 11000, 11100, 11050]}\n",
        "\n",
        "# 시가, 고가, 저가, 종가 : OHLC 라고 함\n",
        "\n",
        "date = ['21.02.15', '21.02.16', '21.02.17', '21.02.18', '21.02.19'] # index 날짜로 지정\n",
        "data = DataFrame(OHLC_EX, columns=['open', 'high', 'low', 'close'], index=date) # columns 순서 지정\n",
        "print(data)"
      ],
      "execution_count": null,
      "outputs": [
        {
          "output_type": "stream",
          "text": [
            "           open   high    low  close\n",
            "21.02.15  11650  12100  11600  11900\n",
            "21.02.16  11100  11800  11050  11600\n",
            "21.02.17  11200  11200  10900  11000\n",
            "21.02.18  11100  11100  10950  11100\n",
            "21.02.19  11000  11150  10900  11050\n"
          ],
          "name": "stdout"
        }
      ]
    },
    {
      "cell_type": "code",
      "metadata": {
        "colab": {
          "base_uri": "https://localhost:8080/"
        },
        "id": "hwc3j-NAMdQZ",
        "outputId": "3a896923-f0fa-4e22-b7e2-d91108ab2a6b"
      },
      "source": [
        "close = data['close'] # 종가 데이터만 가져오기\n",
        "print(close)"
      ],
      "execution_count": null,
      "outputs": [
        {
          "output_type": "stream",
          "text": [
            "21.02.15    11900\n",
            "21.02.16    11600\n",
            "21.02.17    11000\n",
            "21.02.18    11100\n",
            "21.02.19    11050\n",
            "Name: close, dtype: int64\n"
          ],
          "name": "stdout"
        }
      ]
    },
    {
      "cell_type": "code",
      "metadata": {
        "colab": {
          "base_uri": "https://localhost:8080/"
        },
        "id": "ap2wMTTsOebO",
        "outputId": "1e62706f-b7b2-4011-8cbb-696e28f20697"
      },
      "source": [
        "day_data = data.loc['21.02.19'] # 21.02.19 데이터만 가져오기 / .loc 메서드 써야함 .ix에서 바뀜\n",
        "print(day_data)\n",
        "print(type(day_data)) # 반한된 객체는 Series 타입\n",
        "print(data.columns) # coulums 값 확인\n",
        "print(data.index) # index 값 확인"
      ],
      "execution_count": null,
      "outputs": [
        {
          "output_type": "stream",
          "text": [
            "open     11000\n",
            "high     11150\n",
            "low      10900\n",
            "close    11050\n",
            "Name: 21.02.19, dtype: int64\n",
            "<class 'pandas.core.series.Series'>\n",
            "Index(['open', 'high', 'low', 'close'], dtype='object')\n",
            "Index(['21.02.15', '21.02.16', '21.02.17', '21.02.18', '21.02.19'], dtype='object')\n"
          ],
          "name": "stdout"
        }
      ]
    },
    {
      "cell_type": "markdown",
      "metadata": {
        "id": "5phvOIxNFzYe"
      },
      "source": [
        "# 03 - Load Stock Data\n",
        "\n",
        "\"일봉\"만 pandas에서 야후, 구글로 불러 올 수 있음\n",
        "DataReader Site\n",
        "https://pandas-datareader.readthedocs.io/en/latest/readers/nasdaq-trader.html\n"
      ]
    },
    {
      "cell_type": "code",
      "metadata": {
        "id": "IdxCR5mLGlSw",
        "colab": {
          "base_uri": "https://localhost:8080/",
          "height": 299
        },
        "outputId": "2cfdbabc-1858-42c1-f27b-29c5a17924e0"
      },
      "source": [
        "import pandas_datareader.data as web      # web상에 데이터를 DataFrame 객체로 저장\n",
        "import datetime     # 날짜를 편리하게 표한하는 모듈 / 2,3 같은건 02, 03으로 표시 X \n",
        "\n",
        "start = datetime.datetime(2021, 1, 4)\n",
        "end = datetime.datetime(2021, 2, 19)\n",
        "\n",
        "\n",
        "Samsung = web.DataReader('005930.KS', 'yahoo', start, end)    # KOSPI '종목코드.KS'\n",
        "\n",
        "CCL = web.DataReader('CCL', 'yahoo', start, end)              # NASDAQ 'TICKER'\n",
        "\n",
        "print(Samsung.tail())  # Adj Close == 조정 종가 :  유상/무상증자, 액면분할 등을 고려한 가격\n",
        "# Samsung\n",
        "CCL.tail(3)  # 데이터 너무 많으니 .tail()로 뒤 3개 / 기본 5개\n"
      ],
      "execution_count": 4,
      "outputs": [
        {
          "output_type": "stream",
          "text": [
            "             High    Low   Open  Close    Volume  Adj Close\n",
            "Date                                                       \n",
            "2021-02-15  84500  83300  83800  84200  23529706      84200\n",
            "2021-02-16  86000  84200  84500  84900  20483100      84900\n",
            "2021-02-17  84200  83000  83900  83200  18307735      83200\n",
            "2021-02-18  83600  82100  83200  82100  21327683      82100\n",
            "2021-02-19  82800  81000  82300  82600  25880879      82600\n"
          ],
          "name": "stdout"
        },
        {
          "output_type": "execute_result",
          "data": {
            "text/html": [
              "<div>\n",
              "<style scoped>\n",
              "    .dataframe tbody tr th:only-of-type {\n",
              "        vertical-align: middle;\n",
              "    }\n",
              "\n",
              "    .dataframe tbody tr th {\n",
              "        vertical-align: top;\n",
              "    }\n",
              "\n",
              "    .dataframe thead th {\n",
              "        text-align: right;\n",
              "    }\n",
              "</style>\n",
              "<table border=\"1\" class=\"dataframe\">\n",
              "  <thead>\n",
              "    <tr style=\"text-align: right;\">\n",
              "      <th></th>\n",
              "      <th>High</th>\n",
              "      <th>Low</th>\n",
              "      <th>Open</th>\n",
              "      <th>Close</th>\n",
              "      <th>Volume</th>\n",
              "      <th>Adj Close</th>\n",
              "    </tr>\n",
              "    <tr>\n",
              "      <th>Date</th>\n",
              "      <th></th>\n",
              "      <th></th>\n",
              "      <th></th>\n",
              "      <th></th>\n",
              "      <th></th>\n",
              "      <th></th>\n",
              "    </tr>\n",
              "  </thead>\n",
              "  <tbody>\n",
              "    <tr>\n",
              "      <th>2021-02-17</th>\n",
              "      <td>24.059999</td>\n",
              "      <td>21.879999</td>\n",
              "      <td>22.280001</td>\n",
              "      <td>23.200001</td>\n",
              "      <td>59742500</td>\n",
              "      <td>23.200001</td>\n",
              "    </tr>\n",
              "    <tr>\n",
              "      <th>2021-02-18</th>\n",
              "      <td>23.150000</td>\n",
              "      <td>22.379999</td>\n",
              "      <td>22.969999</td>\n",
              "      <td>22.889999</td>\n",
              "      <td>26606400</td>\n",
              "      <td>22.889999</td>\n",
              "    </tr>\n",
              "    <tr>\n",
              "      <th>2021-02-19</th>\n",
              "      <td>24.719999</td>\n",
              "      <td>23.480000</td>\n",
              "      <td>23.620001</td>\n",
              "      <td>24.590000</td>\n",
              "      <td>52483300</td>\n",
              "      <td>24.590000</td>\n",
              "    </tr>\n",
              "  </tbody>\n",
              "</table>\n",
              "</div>"
            ],
            "text/plain": [
              "                 High        Low       Open      Close    Volume  Adj Close\n",
              "Date                                                                       \n",
              "2021-02-17  24.059999  21.879999  22.280001  23.200001  59742500  23.200001\n",
              "2021-02-18  23.150000  22.379999  22.969999  22.889999  26606400  22.889999\n",
              "2021-02-19  24.719999  23.480000  23.620001  24.590000  52483300  24.590000"
            ]
          },
          "metadata": {
            "tags": []
          },
          "execution_count": 4
        }
      ]
    },
    {
      "cell_type": "markdown",
      "metadata": {
        "id": "PQLlN_vR0sPD"
      },
      "source": [
        "**오늘 날짜 데이터 가져오기.**\n",
        "\n",
        "**YTD 직접 만들어보기. ( Year To Date ) 21.01.01 ~ today**\n",
        "\n",
        "여러 방법 중 내가 편한거 / 나중에 함수로 만들어서 사용\n"
      ]
    },
    {
      "cell_type": "code",
      "metadata": {
        "colab": {
          "base_uri": "https://localhost:8080/"
        },
        "id": "wGRmO5t10rSM",
        "outputId": "2a1882b6-f7ae-42c6-e53e-7904c8ea01db"
      },
      "source": [
        "import datetime    # 오늘 날짜 가져오기.\n",
        "\n",
        "today_day = datetime.datetime.now()       # nowDatetime = now.strftime('%Y-%m-%d %H:%M:%S')\n",
        "\n",
        "This_year = today_day.strftime('%Y')                   # 연도만 가져오기\n",
        "\n",
        "YTD_start = datetime.datetime(int(This_year), 1, 1)    # year는 불러오기 This_year : String -> int 변환 / C의 atoi\n",
        "\n",
        "YTD_end = today_day.strftime('%Y-%m-%d')               # 오늘 날짜\n",
        "\n",
        "WFC = web.DataReader('WFC', 'yahoo', YTD_start, YTD_end)    \n",
        "\n",
        "print(YTD_start)\n",
        "print(YTD_end)\n",
        "\n",
        "print(WFC)        # WFC - wells fargo YTD"
      ],
      "execution_count": null,
      "outputs": [
        {
          "output_type": "stream",
          "text": [
            "2021-01-01 00:00:00\n",
            "2021-04-02\n",
            "                 High        Low       Open      Close      Volume  Adj Close\n",
            "Date                                                                         \n",
            "2021-01-04  30.440001  29.400000  30.320000  29.700001  31421600.0  29.606310\n",
            "2021-01-05  30.950001  29.820000  30.090000  30.530001  37360000.0  30.433691\n",
            "2021-01-06  33.000000  31.790001  31.900000  32.689999  73507500.0  32.586876\n",
            "2021-01-07  34.200001  33.320000  33.580002  33.430000  50634100.0  33.324543\n",
            "2021-01-08  33.650002  32.669998  33.610001  33.189999  32324700.0  33.085297\n",
            "...               ...        ...        ...        ...         ...        ...\n",
            "2021-03-26  40.230000  39.169998  39.900002  39.759998  29150200.0  39.759998\n",
            "2021-03-29  39.349998  37.900002  38.580002  38.439999  38426900.0  38.439999\n",
            "2021-03-30  40.080002  38.470001  38.540001  39.389999  36134200.0  39.389999\n",
            "2021-03-31  39.630001  38.919998  39.270000  39.070000  25809100.0  39.070000\n",
            "2021-04-01  39.650002  38.919998  38.959999  39.630001  22694759.0  39.630001\n",
            "\n",
            "[62 rows x 6 columns]\n"
          ],
          "name": "stdout"
        }
      ]
    },
    {
      "cell_type": "markdown",
      "metadata": {
        "id": "IPMN1TqYZg6h"
      },
      "source": [
        "**차트 그리기**"
      ]
    },
    {
      "cell_type": "code",
      "metadata": {
        "colab": {
          "base_uri": "https://localhost:8080/"
        },
        "id": "ZRsUpo3aZd0F",
        "outputId": "7c91b109-2239-4d04-a717-947f9601faf5"
      },
      "source": [
        "# Samsung.info()    # DataFrame 객체에서 info 메서드 호출하면 DataFrame 객체를 요약해서 볼 수 있음.\n",
        "                  # 그래프를 그리기에 5개의 엔트리는 적음\n",
        "\n",
        "Samsung_ALL = web.DataReader('005930.KS', 'yahoo')    # 전체 데이터 가져오기 2010.01.01 부터\n",
        "XOM_MA = web.DataReader('XOM', 'yahoo', '2019-01-01', '2021-03-31')   # 나중에 MA 쓰려고 만듬\n",
        "\n",
        "Samsung_ALL.info()  # 1221개"
      ],
      "execution_count": 23,
      "outputs": [
        {
          "output_type": "stream",
          "text": [
            "<class 'pandas.core.frame.DataFrame'>\n",
            "DatetimeIndex: 1221 entries, 2016-04-04 to 2021-04-02\n",
            "Data columns (total 6 columns):\n",
            " #   Column     Non-Null Count  Dtype  \n",
            "---  ------     --------------  -----  \n",
            " 0   High       1221 non-null   float64\n",
            " 1   Low        1221 non-null   float64\n",
            " 2   Open       1221 non-null   float64\n",
            " 3   Close      1221 non-null   float64\n",
            " 4   Volume     1221 non-null   float64\n",
            " 5   Adj Close  1221 non-null   float64\n",
            "dtypes: float64(6)\n",
            "memory usage: 66.8 KB\n"
          ],
          "name": "stdout"
        }
      ]
    },
    {
      "cell_type": "markdown",
      "metadata": {
        "id": "G6-L9q_Lbfap"
      },
      "source": [
        "**matplotlib - pyplot 사용**"
      ]
    },
    {
      "cell_type": "code",
      "metadata": {
        "colab": {
          "base_uri": "https://localhost:8080/",
          "height": 283
        },
        "id": "oY95XIKsbSo2",
        "outputId": "4684b9f6-7aed-4be6-d7d1-a6fc5934c6f3"
      },
      "source": [
        "import matplotlib.pyplot as plt            # 2016-04-04 to 2021-04-02\n",
        "\n",
        "plt.plot(Samsung_ALL['Adj Close'])"
      ],
      "execution_count": 19,
      "outputs": [
        {
          "output_type": "execute_result",
          "data": {
            "text/plain": [
              "[<matplotlib.lines.Line2D at 0x7f7db8d4e050>]"
            ]
          },
          "metadata": {
            "tags": []
          },
          "execution_count": 19
        },
        {
          "output_type": "display_data",
          "data": {
            "image/png": "[encoded data removed]",
            "text/plain": [
              "<Figure size 432x288 with 1 Axes>"
            ]
          },
          "metadata": {
            "tags": [],
            "needs_background": "light"
          }
        }
      ]
    },
    {
      "cell_type": "markdown",
      "metadata": {
        "id": "Z8EqHDA07AvN"
      },
      "source": [
        "WFC - YTD "
      ]
    },
    {
      "cell_type": "code",
      "metadata": {
        "colab": {
          "base_uri": "https://localhost:8080/",
          "height": 283
        },
        "id": "q1RT0Nny6J2G",
        "outputId": "f28aa163-2ecc-46d4-db9e-5c2d8222099d"
      },
      "source": [
        "  plt.plot(WFC['Adj Close'])    ############# x좌표 알아보기"
      ],
      "execution_count": null,
      "outputs": [
        {
          "output_type": "execute_result",
          "data": {
            "text/plain": [
              "[<matplotlib.lines.Line2D at 0x7f6ec1bfb550>]"
            ]
          },
          "metadata": {
            "tags": []
          },
          "execution_count": 96
        },
        {
          "output_type": "display_data",
          "data": {
            "image/png": "[encoded data removed]",
            "text/plain": [
              "<Figure size 432x288 with 1 Axes>"
            ]
          },
          "metadata": {
            "tags": [],
            "needs_background": "light"
          }
        }
      ]
    },
    {
      "cell_type": "markdown",
      "metadata": {
        "id": "lZr0BVsH7H3z"
      },
      "source": [
        "WFC - YTD ( 거래량 )"
      ]
    },
    {
      "cell_type": "code",
      "metadata": {
        "colab": {
          "base_uri": "https://localhost:8080/",
          "height": 294
        },
        "id": "icj3EIT86zWE",
        "outputId": "6b9afe28-3a07-4dbe-bfb1-d6a147211cf2"
      },
      "source": [
        "plt.plot(WFC['Volume'])       ############## 표 두개 하나로 합쳐서 보여주는 것도 알아보기"
      ],
      "execution_count": null,
      "outputs": [
        {
          "output_type": "execute_result",
          "data": {
            "text/plain": [
              "[<matplotlib.lines.Line2D at 0x7f6ec305d310>]"
            ]
          },
          "metadata": {
            "tags": []
          },
          "execution_count": 99
        },
        {
          "output_type": "display_data",
          "data": {
            "image/png": "[encoded data removed]",
            "text/plain": [
              "<Figure size 432x288 with 1 Axes>"
            ]
          },
          "metadata": {
            "tags": [],
            "needs_background": "light"
          }
        }
      ]
    },
    {
      "cell_type": "markdown",
      "metadata": {
        "id": "_BFm6LkQ8j4R"
      },
      "source": [
        "# 04 - 이동평균선 구하기\n",
        "\n",
        "> 증권사 HTS  :  5, 20, 60, 120 일 제공중\n",
        "\n"
      ]
    },
    {
      "cell_type": "code",
      "metadata": {
        "id": "mdF0UhDU8r6x",
        "colab": {
          "base_uri": "https://localhost:8080/",
          "height": 235
        },
        "outputId": "c3d7ad10-2853-4d98-db87-045c3885e5a6"
      },
      "source": [
        " # MA : Moving average\n",
        "\n",
        "ma5 = XOM_MA['Close'].rolling(window=5).mean()   # 이동평균선 만드는 코드 / Close의 5개의 평균\n",
        "\n",
        "XOM_MA['MA5'] = ma5        # DataFrame 칼럼에 추가 / insert 메서드 / 추가할 위치['이름'] = 추가할 것\n",
        "\n",
        "XOM_MA.tail(5)"
      ],
      "execution_count": 24,
      "outputs": [
        {
          "output_type": "execute_result",
          "data": {
            "text/html": [
              "<div>\n",
              "<style scoped>\n",
              "    .dataframe tbody tr th:only-of-type {\n",
              "        vertical-align: middle;\n",
              "    }\n",
              "\n",
              "    .dataframe tbody tr th {\n",
              "        vertical-align: top;\n",
              "    }\n",
              "\n",
              "    .dataframe thead th {\n",
              "        text-align: right;\n",
              "    }\n",
              "</style>\n",
              "<table border=\"1\" class=\"dataframe\">\n",
              "  <thead>\n",
              "    <tr style=\"text-align: right;\">\n",
              "      <th></th>\n",
              "      <th>High</th>\n",
              "      <th>Low</th>\n",
              "      <th>Open</th>\n",
              "      <th>Close</th>\n",
              "      <th>Volume</th>\n",
              "      <th>Adj Close</th>\n",
              "      <th>MA5</th>\n",
              "    </tr>\n",
              "    <tr>\n",
              "      <th>Date</th>\n",
              "      <th></th>\n",
              "      <th></th>\n",
              "      <th></th>\n",
              "      <th></th>\n",
              "      <th></th>\n",
              "      <th></th>\n",
              "      <th></th>\n",
              "    </tr>\n",
              "  </thead>\n",
              "  <tbody>\n",
              "    <tr>\n",
              "      <th>2021-03-25</th>\n",
              "      <td>56.500000</td>\n",
              "      <td>54.500000</td>\n",
              "      <td>55.209999</td>\n",
              "      <td>56.180000</td>\n",
              "      <td>31495900.0</td>\n",
              "      <td>56.180000</td>\n",
              "      <td>56.028001</td>\n",
              "    </tr>\n",
              "    <tr>\n",
              "      <th>2021-03-26</th>\n",
              "      <td>57.779999</td>\n",
              "      <td>56.520000</td>\n",
              "      <td>57.299999</td>\n",
              "      <td>57.709999</td>\n",
              "      <td>34205300.0</td>\n",
              "      <td>57.709999</td>\n",
              "      <td>56.272000</td>\n",
              "    </tr>\n",
              "    <tr>\n",
              "      <th>2021-03-29</th>\n",
              "      <td>57.820000</td>\n",
              "      <td>56.740002</td>\n",
              "      <td>57.340000</td>\n",
              "      <td>57.400002</td>\n",
              "      <td>21144400.0</td>\n",
              "      <td>57.400002</td>\n",
              "      <td>56.570000</td>\n",
              "    </tr>\n",
              "    <tr>\n",
              "      <th>2021-03-30</th>\n",
              "      <td>57.360001</td>\n",
              "      <td>56.490002</td>\n",
              "      <td>56.860001</td>\n",
              "      <td>56.689999</td>\n",
              "      <td>20303400.0</td>\n",
              "      <td>56.689999</td>\n",
              "      <td>56.864000</td>\n",
              "    </tr>\n",
              "    <tr>\n",
              "      <th>2021-03-31</th>\n",
              "      <td>56.630001</td>\n",
              "      <td>55.799999</td>\n",
              "      <td>56.349998</td>\n",
              "      <td>55.830002</td>\n",
              "      <td>23686500.0</td>\n",
              "      <td>55.830002</td>\n",
              "      <td>56.762000</td>\n",
              "    </tr>\n",
              "  </tbody>\n",
              "</table>\n",
              "</div>"
            ],
            "text/plain": [
              "                 High        Low       Open  ...      Volume  Adj Close        MA5\n",
              "Date                                         ...                                  \n",
              "2021-03-25  56.500000  54.500000  55.209999  ...  31495900.0  56.180000  56.028001\n",
              "2021-03-26  57.779999  56.520000  57.299999  ...  34205300.0  57.709999  56.272000\n",
              "2021-03-29  57.820000  56.740002  57.340000  ...  21144400.0  57.400002  56.570000\n",
              "2021-03-30  57.360001  56.490002  56.860001  ...  20303400.0  56.689999  56.864000\n",
              "2021-03-31  56.630001  55.799999  56.349998  ...  23686500.0  55.830002  56.762000\n",
              "\n",
              "[5 rows x 7 columns]"
            ]
          },
          "metadata": {
            "tags": []
          },
          "execution_count": 24
        }
      ]
    },
    {
      "cell_type": "markdown",
      "metadata": {
        "id": "P7nJ_qEot_wc"
      },
      "source": [
        "MA 20, 60, 120 일 추가\n",
        "\n"
      ]
    },
    {
      "cell_type": "code",
      "metadata": {
        "id": "sdKLthHE8sDi",
        "colab": {
          "base_uri": "https://localhost:8080/",
          "height": 173
        },
        "outputId": "e6f5694f-a5b9-4034-8c85-93f9d995b464"
      },
      "source": [
        "ma20 = XOM_MA['Close'].rolling(window=20).mean()\n",
        "ma60 = XOM_MA['Close'].rolling(window=60).mean()\n",
        "ma120 = XOM_MA['Close'].rolling(window=120).mean()\n",
        "\n",
        "XOM_MA['MA20'] = ma20\n",
        "XOM_MA['MA60'] = ma60\n",
        "XOM_MA['MA120'] = ma120\n",
        "\n",
        "XOM_MA.tail(3)"
      ],
      "execution_count": 25,
      "outputs": [
        {
          "output_type": "execute_result",
          "data": {
            "text/html": [
              "<div>\n",
              "<style scoped>\n",
              "    .dataframe tbody tr th:only-of-type {\n",
              "        vertical-align: middle;\n",
              "    }\n",
              "\n",
              "    .dataframe tbody tr th {\n",
              "        vertical-align: top;\n",
              "    }\n",
              "\n",
              "    .dataframe thead th {\n",
              "        text-align: right;\n",
              "    }\n",
              "</style>\n",
              "<table border=\"1\" class=\"dataframe\">\n",
              "  <thead>\n",
              "    <tr style=\"text-align: right;\">\n",
              "      <th></th>\n",
              "      <th>High</th>\n",
              "      <th>Low</th>\n",
              "      <th>Open</th>\n",
              "      <th>Close</th>\n",
              "      <th>Volume</th>\n",
              "      <th>Adj Close</th>\n",
              "      <th>MA5</th>\n",
              "      <th>MA20</th>\n",
              "      <th>MA60</th>\n",
              "      <th>MA120</th>\n",
              "    </tr>\n",
              "    <tr>\n",
              "      <th>Date</th>\n",
              "      <th></th>\n",
              "      <th></th>\n",
              "      <th></th>\n",
              "      <th></th>\n",
              "      <th></th>\n",
              "      <th></th>\n",
              "      <th></th>\n",
              "      <th></th>\n",
              "      <th></th>\n",
              "      <th></th>\n",
              "    </tr>\n",
              "  </thead>\n",
              "  <tbody>\n",
              "    <tr>\n",
              "      <th>2021-03-29</th>\n",
              "      <td>57.820000</td>\n",
              "      <td>56.740002</td>\n",
              "      <td>57.340000</td>\n",
              "      <td>57.400002</td>\n",
              "      <td>21144400.0</td>\n",
              "      <td>57.400002</td>\n",
              "      <td>56.570</td>\n",
              "      <td>58.4505</td>\n",
              "      <td>52.114167</td>\n",
              "      <td>44.877917</td>\n",
              "    </tr>\n",
              "    <tr>\n",
              "      <th>2021-03-30</th>\n",
              "      <td>57.360001</td>\n",
              "      <td>56.490002</td>\n",
              "      <td>56.860001</td>\n",
              "      <td>56.689999</td>\n",
              "      <td>20303400.0</td>\n",
              "      <td>56.689999</td>\n",
              "      <td>56.864</td>\n",
              "      <td>58.4815</td>\n",
              "      <td>52.372000</td>\n",
              "      <td>45.072083</td>\n",
              "    </tr>\n",
              "    <tr>\n",
              "      <th>2021-03-31</th>\n",
              "      <td>56.630001</td>\n",
              "      <td>55.799999</td>\n",
              "      <td>56.349998</td>\n",
              "      <td>55.830002</td>\n",
              "      <td>23686500.0</td>\n",
              "      <td>55.830002</td>\n",
              "      <td>56.762</td>\n",
              "      <td>58.4470</td>\n",
              "      <td>52.610833</td>\n",
              "      <td>45.258167</td>\n",
              "    </tr>\n",
              "  </tbody>\n",
              "</table>\n",
              "</div>"
            ],
            "text/plain": [
              "                 High        Low       Open  ...     MA20       MA60      MA120\n",
              "Date                                         ...                               \n",
              "2021-03-29  57.820000  56.740002  57.340000  ...  58.4505  52.114167  44.877917\n",
              "2021-03-30  57.360001  56.490002  56.860001  ...  58.4815  52.372000  45.072083\n",
              "2021-03-31  56.630001  55.799999  56.349998  ...  58.4470  52.610833  45.258167\n",
              "\n",
              "[3 rows x 10 columns]"
            ]
          },
          "metadata": {
            "tags": []
          },
          "execution_count": 25
        }
      ]
    },
    {
      "cell_type": "markdown",
      "metadata": {
        "id": "c712NhhHuz5W"
      },
      "source": [
        "**이동평균선 포함하여 차트 그리기.**"
      ]
    },
    {
      "cell_type": "code",
      "metadata": {
        "colab": {
          "base_uri": "https://localhost:8080/",
          "height": 265
        },
        "id": "2HGMjE1CuV2-",
        "outputId": "ce430d8e-2aba-4acb-9bb1-92d1263c4f44"
      },
      "source": [
        "import matplotlib.pyplot as plt\n",
        "\n",
        "plt.plot(XOM_MA.index, XOM_MA['Close'], label=\"Close\")    # 범례 : label = \" \" / 이제 여러개라서 헷갈리니까\n",
        "plt.plot(XOM_MA.index, XOM_MA['MA5'], label=\"MA5\")\n",
        "plt.plot(XOM_MA.index, XOM_MA['MA20'], label=\"MA20\")\n",
        "plt.plot(XOM_MA.index, XOM_MA['MA60'], label=\"MA60\")\n",
        "plt.plot(XOM_MA.index, XOM_MA['MA120'], label=\"MA120\")\n",
        "\n",
        "plt.legend(loc='best')  # 범례 소환 / best : 적합한 위치\n",
        "plt.grid()               # 격자 생성"
      ],
      "execution_count": 29,
      "outputs": [
        {
          "output_type": "display_data",
          "data": {
            "image/png": "[encoded data removed]",
            "text/plain": [
              "<Figure size 432x288 with 1 Axes>"
            ]
          },
          "metadata": {
            "tags": [],
            "needs_background": "light"
          }
        }
      ]
    },
    {
      "cell_type": "markdown",
      "metadata": {
        "id": "frkHGw6qIwoy"
      },
      "source": [
        "# FinanceDataReader\n",
        "책 외 내용, pandas-datareader를 보완한 API\n",
        "https://stockanalysis.tistory.com/12"
      ]
    },
    {
      "cell_type": "code",
      "metadata": {
        "colab": {
          "base_uri": "https://localhost:8080/"
        },
        "id": "8Q1wm3scJC1P",
        "outputId": "8dbf7e20-d391-4903-8a32-01adbe3a142b"
      },
      "source": [
        "!pip install finance-datareader # API 설치"
      ],
      "execution_count": null,
      "outputs": [
        {
          "output_type": "stream",
          "text": [
            "Collecting finance-datareader\n",
            "  Downloading https://files.pythonhosted.org/packages/83/5e/54306e72b5ff5d5ec6cc9f32cdf19602237f9bb70d64efcd527338388be3/finance_datareader-0.9.31-py3-none-any.whl\n",
            "Requirement already satisfied: pandas>=0.19.2 in /usr/local/lib/python3.7/dist-packages (from finance-datareader) (1.1.5)\n",
            "Requirement already satisfied: requests>=2.3.0 in /usr/local/lib/python3.7/dist-packages (from finance-datareader) (2.23.0)\n",
            "Requirement already satisfied: tqdm in /usr/local/lib/python3.7/dist-packages (from finance-datareader) (4.41.1)\n",
            "Collecting requests-file\n",
            "  Downloading https://files.pythonhosted.org/packages/77/86/cdb5e8eaed90796aa83a6d9f75cfbd37af553c47a291cd47bc410ef9bdb2/requests_file-1.5.1-py2.py3-none-any.whl\n",
            "Requirement already satisfied: lxml in /usr/local/lib/python3.7/dist-packages (from finance-datareader) (4.2.6)\n",
            "Requirement already satisfied: python-dateutil>=2.7.3 in /usr/local/lib/python3.7/dist-packages (from pandas>=0.19.2->finance-datareader) (2.8.1)\n",
            "Requirement already satisfied: numpy>=1.15.4 in /usr/local/lib/python3.7/dist-packages (from pandas>=0.19.2->finance-datareader) (1.19.5)\n",
            "Requirement already satisfied: pytz>=2017.2 in /usr/local/lib/python3.7/dist-packages (from pandas>=0.19.2->finance-datareader) (2018.9)\n",
            "Requirement already satisfied: chardet<4,>=3.0.2 in /usr/local/lib/python3.7/dist-packages (from requests>=2.3.0->finance-datareader) (3.0.4)\n",
            "Requirement already satisfied: certifi>=2017.4.17 in /usr/local/lib/python3.7/dist-packages (from requests>=2.3.0->finance-datareader) (2020.12.5)\n",
            "Requirement already satisfied: urllib3!=1.25.0,!=1.25.1,<1.26,>=1.21.1 in /usr/local/lib/python3.7/dist-packages (from requests>=2.3.0->finance-datareader) (1.24.3)\n",
            "Requirement already satisfied: idna<3,>=2.5 in /usr/local/lib/python3.7/dist-packages (from requests>=2.3.0->finance-datareader) (2.10)\n",
            "Requirement already satisfied: six in /usr/local/lib/python3.7/dist-packages (from requests-file->finance-datareader) (1.15.0)\n",
            "Installing collected packages: requests-file, finance-datareader\n",
            "Successfully installed finance-datareader-0.9.31 requests-file-1.5.1\n"
          ],
          "name": "stdout"
        }
      ]
    },
    {
      "cell_type": "code",
      "metadata": {
        "colab": {
          "base_uri": "https://localhost:8080/"
        },
        "id": "7qf1zfblJKme",
        "outputId": "433696d6-3af3-4e73-aece-4a84008b83bc"
      },
      "source": [
        "import FinanceDataReader as fdr\n",
        "\n",
        "NASDAQ = fdr.StockListing('NASDAQ') # 나스닥 상장 종목 불러오기   KRX, KOSPI, KOSDAQ, KONEX, NYSE, NASDAQ 등"
      ],
      "execution_count": null,
      "outputs": [
        {
          "output_type": "stream",
          "text": [
            "100%|██████████| 3672/3672 [00:41<00:00, 88.62it/s]\n"
          ],
          "name": "stderr"
        }
      ]
    },
    {
      "cell_type": "code",
      "metadata": {
        "colab": {
          "base_uri": "https://localhost:8080/"
        },
        "id": "u2eLyzYxKWG9",
        "outputId": "ce3f34e8-104a-4987-8d39-cd507e4cd9a9"
      },
      "source": [
        "print(NASDAQ)     # ALL 출력"
      ],
      "execution_count": null,
      "outputs": [
        {
          "output_type": "stream",
          "text": [
            "     Symbol  ... IndustryCode\n",
            "0      AAPL  ...       571060\n",
            "1      MSFT  ...       572010\n",
            "2      AMZN  ...       534020\n",
            "3        FB  ...       572010\n",
            "4     GOOGL  ...       572010\n",
            "...     ...  ...          ...\n",
            "3667   COVA  ...       556010\n",
            "3668   KURI  ...       556010\n",
            "3669  RILYK  ...       551020\n",
            "3670   ACHL  ...       562020\n",
            "3671  MBTCU  ...       556010\n",
            "\n",
            "[3672 rows x 4 columns]\n"
          ],
          "name": "stdout"
        }
      ]
    },
    {
      "cell_type": "code",
      "metadata": {
        "colab": {
          "base_uri": "https://localhost:8080/"
        },
        "id": "Q9Y45OByKhof",
        "outputId": "39912eac-6687-442e-9ffd-e700157b1802"
      },
      "source": [
        "CCL = fdr.DataReader('CCL') # CCL 카니발 _ 전체 기간    / 티커로 바로 가져 올 수 있음.\n",
        "CCL_2020 = fdr.DataReader('CCL','2020') # CCL 카니발 _ 2020 년\n",
        "CCL_2021_MY = fdr.DataReader('CCL','2021-01-01','2021-03-31') # CCL 카니발 _ 원하는 날짜\n",
        "\n",
        "print(CCL)\n",
        "# print(CCL_2020)\n",
        "print(CCL_2021_MY)\n"
      ],
      "execution_count": null,
      "outputs": [
        {
          "output_type": "stream",
          "text": [
            "            Close   Open   High    Low      Volume  Change\n",
            "Date                                                      \n",
            "1987-07-24   3.94   3.94   3.94   3.88  15570000.0 -0.9194\n",
            "1987-07-27   3.91   3.91   3.94   3.88   1930000.0 -0.0076\n",
            "1987-07-28   3.88   3.88   3.91   3.88   2070000.0 -0.0077\n",
            "1987-07-29   3.88   3.88   3.91   3.88   4930000.0  0.0000\n",
            "1987-07-30   3.81   3.81   3.91   3.81   4650000.0 -0.0180\n",
            "...           ...    ...    ...    ...         ...     ...\n",
            "2021-03-25  25.85  23.91  26.03  23.72  46670000.0  0.0402\n",
            "2021-03-26  26.06  26.25  26.51  25.21  28540000.0  0.0081\n",
            "2021-03-29  25.63  26.05  26.12  25.28  19990000.0 -0.0165\n",
            "2021-03-30  26.65  25.70  26.83  25.66  23600000.0  0.0398\n",
            "2021-03-31  26.54  26.46  26.79  25.92  21560000.0 -0.0041\n",
            "\n",
            "[8490 rows x 6 columns]\n",
            "            Close   Open   High    Low      Volume  Change\n",
            "Date                                                      \n",
            "2021-01-04  20.38  21.70  21.71  20.04  40270000.0 -0.0591\n",
            "2021-01-05  20.60  20.18  20.85  20.15  31790000.0  0.0108\n",
            "2021-01-06  20.40  20.55  20.91  20.16  35300000.0 -0.0097\n",
            "2021-01-07  20.74  20.50  21.26  20.50  28990000.0  0.0167\n",
            "2021-01-08  20.47  20.90  21.01  20.18  30370000.0 -0.0130\n",
            "...           ...    ...    ...    ...         ...     ...\n",
            "2021-03-25  25.85  23.91  26.03  23.72  46670000.0  0.0402\n",
            "2021-03-26  26.06  26.25  26.51  25.21  28540000.0  0.0081\n",
            "2021-03-29  25.63  26.05  26.12  25.28  19990000.0 -0.0165\n",
            "2021-03-30  26.65  25.70  26.83  25.66  23600000.0  0.0398\n",
            "2021-03-31  26.54  26.46  26.79  25.92  21560000.0 -0.0041\n",
            "\n",
            "[61 rows x 6 columns]\n"
          ],
          "name": "stdout"
        }
      ]
    },
    {
      "cell_type": "code",
      "metadata": {
        "colab": {
          "base_uri": "https://localhost:8080/"
        },
        "id": "EN8VMsRhW29M",
        "outputId": "35dfb962-69fe-4d80-bfcd-fc3b4ca7fe8d"
      },
      "source": [
        "USD_KR = fdr.DataReader('USD/KRW') # 달러 / 원 \n",
        "BTC_KR = fdr.DataReader('BTC/KRW') # 비트코인 / 원 ( 빗썸 기준 )\n",
        "\n",
        "print(USD_KR)\n",
        "print(BTC_KR)\n",
        "\n",
        "# NG 천연가스 / ZG 금 선물 / ZI 은 선물 / HG 구리 선물  등 \n",
        "# KR1YT=RR ( 1년만기 한국국채 수익률 등.. ) KR + 1YT / 국가 + 기간 = RR\n",
        "# 국가 : KR, US / 기간 : 1YT, 10YT, 1MT / RR : 수익률 ( rate of return )\n",
        "# https://fred.stlouisfed.org/  연준 DATA, 사이트에서 Symbol 가져오면 됨.\n",
        "# name = fdr.DataReader('Symbol', 'data_source = 'fred' )"
      ],
      "execution_count": null,
      "outputs": [
        {
          "output_type": "stream",
          "text": [
            "              Close     Open     High      Low  Change\n",
            "Date                                                  \n",
            "1981-04-14   676.70   676.70   676.70   676.70  0.0019\n",
            "1981-04-15   676.70   676.70   676.70   676.70  0.0000\n",
            "1981-04-16   676.70   676.70   676.70   676.70  0.0000\n",
            "1981-04-17   676.75   676.75   676.75   676.75  0.0001\n",
            "1981-04-20   676.70   676.70   676.70   676.70 -0.0001\n",
            "...             ...      ...      ...      ...     ...\n",
            "2021-03-26  1128.52  1135.24  1136.09  1128.07 -0.0058\n",
            "2021-03-29  1131.56  1128.95  1136.41  1128.77  0.0027\n",
            "2021-03-30  1132.59  1132.56  1136.29  1131.42  0.0009\n",
            "2021-03-31  1127.17  1133.54  1134.68  1125.32 -0.0048\n",
            "2021-04-01  1130.55  1127.24  1133.55  1125.79  0.0030\n",
            "\n",
            "[10310 rows x 5 columns]\n",
            "               Close      Open      High       Low   Volume  Change\n",
            "Date                                                               \n",
            "2017-05-23   3206000   3104000   3281000   3081000  21580.0  0.0329\n",
            "2017-05-24   4175000   3206000   4314000   3206000  34680.0  0.3022\n",
            "2017-05-25   4199000   4175000   4840000   3102000  35910.0  0.0057\n",
            "2017-05-26   3227000   4199000   4200000   2900000  36650.0 -0.2315\n",
            "2017-05-27   3152000   3227000   3288000   2460000  33750.0 -0.0232\n",
            "...              ...       ...       ...       ...      ...     ...\n",
            "2021-03-28  67035000  66428000  67035000  66428000    680.0  0.0079\n",
            "2021-03-29  68391000  67025000  68391000  66877000   1080.0  0.0202\n",
            "2021-03-30  70470000  68407000  70470000  68407000    650.0  0.0304\n",
            "2021-03-31  70974000  70455000  70974000  70455000   1150.0  0.0072\n",
            "2021-04-01  71280000  71001000  71280000  71001000   3620.0  0.0043\n",
            "\n",
            "[1408 rows x 6 columns]\n"
          ],
          "name": "stdout"
        }
      ]
    },
    {
      "cell_type": "markdown",
      "metadata": {
        "id": "TkXEN7iRasjq"
      },
      "source": [
        "# Yahoo Finance Data"
      ]
    },
    {
      "cell_type": "code",
      "metadata": {
        "colab": {
          "base_uri": "https://localhost:8080/"
        },
        "id": "SRwTK04raqWr",
        "outputId": "37339f13-1500-40ad-f733-cdbe426d292c"
      },
      "source": [
        "!pip install pandas-datareader\n",
        "!pip install yfinance\n",
        "\n",
        "import pandas as pd\n",
        "import pandas_datareader as pdr\n",
        "import yfinance as yf\n",
        "\n",
        "Tesla = yf.Ticker(\"TSLA\")   # 코스피는 005930.KS or KQ 붙이기\n",
        "\n",
        "Tesla_2021 = Tesla.history(period=\"2021\") # 추출 방법 자세히 알아보기\n",
        "print(Tesla_2021)   # .actions : 배당, 분할 정보 / .dividends 배당 정보 / .splits 분할 정보"
      ],
      "execution_count": null,
      "outputs": [
        {
          "output_type": "stream",
          "text": [
            "Requirement already satisfied: pandas-datareader in /usr/local/lib/python3.7/dist-packages (0.9.0)\n",
            "Requirement already satisfied: pandas>=0.23 in /usr/local/lib/python3.7/dist-packages (from pandas-datareader) (1.1.5)\n",
            "Requirement already satisfied: lxml in /usr/local/lib/python3.7/dist-packages (from pandas-datareader) (4.6.3)\n",
            "Requirement already satisfied: requests>=2.19.0 in /usr/local/lib/python3.7/dist-packages (from pandas-datareader) (2.23.0)\n",
            "Requirement already satisfied: pytz>=2017.2 in /usr/local/lib/python3.7/dist-packages (from pandas>=0.23->pandas-datareader) (2018.9)\n",
            "Requirement already satisfied: python-dateutil>=2.7.3 in /usr/local/lib/python3.7/dist-packages (from pandas>=0.23->pandas-datareader) (2.8.1)\n",
            "Requirement already satisfied: numpy>=1.15.4 in /usr/local/lib/python3.7/dist-packages (from pandas>=0.23->pandas-datareader) (1.19.5)\n",
            "Requirement already satisfied: idna<3,>=2.5 in /usr/local/lib/python3.7/dist-packages (from requests>=2.19.0->pandas-datareader) (2.10)\n",
            "Requirement already satisfied: urllib3!=1.25.0,!=1.25.1,<1.26,>=1.21.1 in /usr/local/lib/python3.7/dist-packages (from requests>=2.19.0->pandas-datareader) (1.24.3)\n",
            "Requirement already satisfied: chardet<4,>=3.0.2 in /usr/local/lib/python3.7/dist-packages (from requests>=2.19.0->pandas-datareader) (3.0.4)\n",
            "Requirement already satisfied: certifi>=2017.4.17 in /usr/local/lib/python3.7/dist-packages (from requests>=2.19.0->pandas-datareader) (2020.12.5)\n",
            "Requirement already satisfied: six>=1.5 in /usr/local/lib/python3.7/dist-packages (from python-dateutil>=2.7.3->pandas>=0.23->pandas-datareader) (1.15.0)\n",
            "Requirement already satisfied: yfinance in /usr/local/lib/python3.7/dist-packages (0.1.59)\n",
            "Requirement already satisfied: multitasking>=0.0.7 in /usr/local/lib/python3.7/dist-packages (from yfinance) (0.0.9)\n",
            "Requirement already satisfied: lxml>=4.5.1 in /usr/local/lib/python3.7/dist-packages (from yfinance) (4.6.3)\n",
            "Requirement already satisfied: numpy>=1.15 in /usr/local/lib/python3.7/dist-packages (from yfinance) (1.19.5)\n",
            "Requirement already satisfied: pandas>=0.24 in /usr/local/lib/python3.7/dist-packages (from yfinance) (1.1.5)\n",
            "Requirement already satisfied: requests>=2.20 in /usr/local/lib/python3.7/dist-packages (from yfinance) (2.23.0)\n",
            "Requirement already satisfied: python-dateutil>=2.7.3 in /usr/local/lib/python3.7/dist-packages (from pandas>=0.24->yfinance) (2.8.1)\n",
            "Requirement already satisfied: pytz>=2017.2 in /usr/local/lib/python3.7/dist-packages (from pandas>=0.24->yfinance) (2018.9)\n",
            "Requirement already satisfied: chardet<4,>=3.0.2 in /usr/local/lib/python3.7/dist-packages (from requests>=2.20->yfinance) (3.0.4)\n",
            "Requirement already satisfied: idna<3,>=2.5 in /usr/local/lib/python3.7/dist-packages (from requests>=2.20->yfinance) (2.10)\n",
            "Requirement already satisfied: certifi>=2017.4.17 in /usr/local/lib/python3.7/dist-packages (from requests>=2.20->yfinance) (2020.12.5)\n",
            "Requirement already satisfied: urllib3!=1.25.0,!=1.25.1,<1.26,>=1.21.1 in /usr/local/lib/python3.7/dist-packages (from requests>=2.20->yfinance) (1.24.3)\n",
            "Requirement already satisfied: six>=1.5 in /usr/local/lib/python3.7/dist-packages (from python-dateutil>=2.7.3->pandas>=0.24->yfinance) (1.15.0)\n",
            "                  Open   High         Low  ...    Volume  Dividends  Stock Splits\n",
            "Date                                       ...                                   \n",
            "2021-03-31  646.619995  672.0  641.109985  ...  33261700          0             0\n",
            "2021-03-31  646.619995  672.0  641.119995  ...  32564022          0             0\n",
            "\n",
            "[2 rows x 7 columns]\n"
          ],
          "name": "stdout"
        }
      ]
    },
    {
      "cell_type": "markdown",
      "metadata": {
        "id": "WXOKqR6RDLhn"
      },
      "source": [
        "나중에 주식 포토폴리오 시각화 자료 만들기\n",
        "\n",
        "증권사 어플의 자산조회도 만들어보기\n",
        "\n",
        "웹으로 내가 매수한 평단, 티커 입력하면\n",
        "자산 포트폴리오로 원 그래프 및 수익률 등\n",
        "\n",
        "자산잔고 어플이랑 똑같이 만들어보기\n",
        "내가 필요한 기능도 추가해보고\n",
        "The Rich 같은 어플 웹 버전\n",
        "기능들 넣고\n",
        "\n",
        "\n",
        "데이터 쭉 불러와서 최근 날짜 데이터 가져와서 갱신\n"
      ]
    }
  ]
}