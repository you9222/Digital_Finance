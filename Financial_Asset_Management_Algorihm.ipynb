{
  "nbformat": 4,
  "nbformat_minor": 0,
  "metadata": {
    "colab": {
      "name": "Financial_Asset_Management_Algorihm.ipynb",
      "provenance": [],
      "collapsed_sections": [],
      "authorship_tag": "ABX9TyM9v0HGcavzLUkIxvVyUeKF",
      "include_colab_link": true
    },
    "kernelspec": {
      "name": "python3",
      "display_name": "Python 3"
    },
    "language_info": {
      "name": "python"
    }
  },
  "cells": [
    {
      "cell_type": "markdown",
      "metadata": {
        "id": "view-in-github",
        "colab_type": "text"
      },
      "source": [
        "<a href=\"https://colab.research.google.com/github/you9222/Digital_Finance/blob/main/Financial_Asset_Management_Algorihm.ipynb\" target=\"_parent\"><img src=\"https://colab.research.google.com/assets/colab-badge.svg\" alt=\"Open In Colab\"/></a>"
      ]
    },
    {
      "cell_type": "markdown",
      "metadata": {
        "id": "pX81Nx2IQ2Lh"
      },
      "source": [
        "몇 개 종목을 입력하시겠습니까? : \n",
        "\n",
        "// 한국, 미국 같이하면 복잡 \n",
        "\n",
        "1.  > 티커 입력(미국) : ex) CCL\n",
        "\n",
        "    > 종목 코드, 거래소 입력(한국) : ex) 005930 kosdaq      // 005930.KD +\"KD\"\n",
        "\n",
        "2.  매수 금액, 개수 : ex) 19 $ 150 주\n",
        "\n"
      ]
    },
    {
      "cell_type": "markdown",
      "metadata": {
        "id": "v90eMsO8QNHQ"
      },
      "source": [
        "// 내가 매수했던 종목과 금액 입력 받은 후 데이터 불러와서 수익률 보여주기    수수료 고려 ( 거래소, 예결원, 증권 )       미국 - adr, 등\n",
        "\n",
        "// 수익률이나 금액 등 차트로 보여주기"
      ]
    },
    {
      "cell_type": "markdown",
      "metadata": {
        "id": "y9zNduOIQNLv"
      },
      "source": [
        "// 환률 불러와서 원화랑 달러로 잔고 보여주기"
      ]
    },
    {
      "cell_type": "markdown",
      "metadata": {
        "id": "wVbYXp2P25Xt"
      },
      "source": [
        ""
      ]
    },
    {
      "cell_type": "markdown",
      "metadata": {
        "id": "kq03Vin92nvH"
      },
      "source": [
        "\n"
      ]
    },
    {
      "cell_type": "markdown",
      "metadata": {
        "id": "9TCOWxuyQddU"
      },
      "source": [
        "// 배당금 관련해서 날짜랑 금액 등 알려주기"
      ]
    },
    {
      "cell_type": "markdown",
      "metadata": {
        "id": "9F4OI-ceSXXo"
      },
      "source": [
        "// 원하는 기업 정보 불러오기. 필요한거만 보기 좋게 파싱 .info()"
      ]
    },
    {
      "cell_type": "markdown",
      "metadata": {
        "id": "uuQi2PpscSvG"
      },
      "source": [
        "// 1. 오늘의 환율보기 뭐 등등 직접검색해서 환율볼수도있고 주가차트도"
      ]
    },
    {
      "cell_type": "markdown",
      "metadata": {
        "id": "7udHyPcAf-uK"
      },
      "source": [
        "// 거의다 필요한 기능들 및 계산식 함수로 구성"
      ]
    },
    {
      "cell_type": "markdown",
      "metadata": {
        "id": "ZZP80yqv2g1M"
      },
      "source": [
        "# **/////////////////////////////// 일단 nasdaq 구현 /////////////////////////////////**"
      ]
    },
    {
      "cell_type": "code",
      "metadata": {
        "id": "XX8cezTe27_7"
      },
      "source": [
        "!pip install finance-datareader\n",
        "!pip install pandas-datareader\n",
        "!pip install yfinance\n",
        "import pandas as pd\n",
        "import numpy as np\n",
        "import matplotlib.pyplot as plt\n",
        "import pandas_datareader as pdr\n",
        "import FinanceDataReader as fdr\n",
        "import pandas_datareader.data as web\n",
        "import yfinance as yf\n",
        "import datetime\n",
        "from pandas import Series, DataFrame\n",
        "from matplotlib import style"
      ],
      "execution_count": null,
      "outputs": []
    },
    {
      "cell_type": "code",
      "metadata": {
        "colab": {
          "base_uri": "https://localhost:8080/"
        },
        "id": "G1OT_mZz28kW",
        "outputId": "7aa8073e-8d10-4825-e884-27e77774775a"
      },
      "source": [
        "import os\n",
        "\n",
        "print(\"NASDAQ\")\n",
        "print(\"몇 개의 종목을 입력하시겠습니까?   >> \", end=' ')\n",
        "n = int(input()) \n",
        "\n",
        "i = 0\n",
        "ticker_name_arr = []\n",
        "go_arr = []\n",
        "num_arr = []\n",
        "\n",
        "while i < n :\n",
        "  i += 1\n",
        "  print(\"%d 번째 종목\" % (i))\n",
        "  print(\" 주의사항 - 대문자로 정확하게 입력해주세요.\")\n",
        "  print(\"종목 티커 입력 : ex) AAPL          >>\", end=' ')\n",
        "  ticker_name = input()\n",
        "  ticker_name_arr.append(ticker_name) \n",
        "  print(\"\")\n",
        "  print(\" 주의사항 - 숫자만 입력하고 띄어쓰기로 구분해주세요.\")\n",
        "  print(\"매수 금액, 수  : ex) 50.2 15   >>\", end=' ')\n",
        "  go, num = map(float, input().split())    # int 2개 받으려면 map 써야함. / 실수로 받고 수는 int로 형 변환하여사용\n",
        "  go_arr.append(go)   # 리스트에 하나씩 들어감\n",
        "  num_arr.append(num)\n",
        "  # os.system('cls') # 콘솔에서 지우기 코랩 x\n",
        "  print(\"\")\n",
        "  print(\"\")\n",
        "\n",
        "#//print(go_arr[0])\n",
        "#//print(go_arr[1])"
      ],
      "execution_count": null,
      "outputs": [
        {
          "output_type": "stream",
          "text": [
            "NASDAQ\n",
            "몇 개의 종목을 입력하시겠습니까?   >>  2\n",
            "1 번째 종목\n",
            " 주의사항 - 대문자로 정확하게 입력해주세요.\n",
            "종목 티커 입력 : ex) AAPL          >> A\n",
            "\n",
            " 주의사항 - 숫자만 입력하고 띄어쓰기로 구분해주세요.\n",
            "매수 금액, 수  : ex) 50.2 15   >> 10 5\n",
            "\n",
            "\n",
            "2 번째 종목\n",
            " 주의사항 - 대문자로 정확하게 입력해주세요.\n",
            "종목 티커 입력 : ex) AAPL          >> M\n",
            "\n",
            " 주의사항 - 숫자만 입력하고 띄어쓰기로 구분해주세요.\n",
            "매수 금액, 수  : ex) 50.2 15   >> 5 9\n",
            "\n",
            "\n"
          ],
          "name": "stdout"
        }
      ]
    },
    {
      "cell_type": "code",
      "metadata": {
        "id": "h4UGSKn428q0"
      },
      "source": [
        "# 수익률 구하는 함수 매개개변수로 ( 매수금액, 매도금액 )    // 수수료 고려할 필요 X , 단순 수익율만 보여주는건\n",
        "# 수익률 = ((매도/매수)-1)* 100\n",
        "def profit(a,b) :\n",
        "  return ((b/a)-1)*100"
      ],
      "execution_count": 117,
      "outputs": []
    },
    {
      "cell_type": "code",
      "metadata": {
        "colab": {
          "base_uri": "https://localhost:8080/"
        },
        "id": "8XkJYDOX28mz",
        "outputId": "ab19c24d-9f73-4c3f-d320-ed51c5afe4aa"
      },
      "source": [
        "from datetime import date, timedelta      # 어제 날짜 구하기\n",
        "\n",
        "ticker = [n] # 각 종목 차트가 저장 될 자리\n",
        "\n",
        "today_day = date.today()\n",
        "today = today_day.strftime('%Y-%m-%d')  \n",
        "yesterday_day = date.today() - timedelta(1)\n",
        "yesterday = yesterday_day.strftime('%Y-%m-%d')\n",
        "\n",
        "loop_0 = 0;\n",
        "while loop_0 < n :\n",
        "  ticker.insert(loop_0, fdr.DataReader(ticker_name_arr[loop_0], yesterday ))    # insert 메소드로 저장        today 오늘 데이터가 없을 수 있음 미장은 없지 하루 전 꺼를 불러와야함\n",
        "  #print(ticker[loop_0])                                                     # 또 변수는 주말엔 장 안여니까 데이터가 비어있으면 -1 씩 하게 구현하기.\n",
        "  loop_0 += 1\n",
        "\n",
        "print(ticker[0].loc[yesterday]['Close'])\n",
        "\n",
        "maedo = ticker[1].loc[yesterday]['Close']\n",
        "print(maedo)\n",
        "USD_KR = fdr.DataReader('USD/KRW',today) # 환율 목록\n",
        "\n",
        "#print(USD_KR)\n",
        "\n",
        "print(USD_KR.loc[today]['Close'])   # DF에서 하나만 추출하기\n",
        "won = USD_KR.loc[today]['Close']\n",
        "print(yesterday)\n",
        "\n",
        "\n",
        "\n",
        "print(str(profit(go_arr[1],ror)) +\" %\")\n",
        "\n",
        "print(str(round(profit(go_arr[1],ror),5)) +\" %\")      # 수익률 함수 호출하고 나서 반올림 하고 str 변환 후 %\n",
        "\n",
        "print(\"현재 1주 달러 가격 : \" + str(ror) + \" $\")\n",
        "print(\"현재 1주 원화 가격 : \" + str(int(ror*won)) + \" 원\")\n",
        "\n",
        "maedo_t = num_arr[1] * maedo\n",
        "maesu_t = num_arr[1] * go_arr[1]       \n",
        "\n",
        "profit_t = maedo_t - maesu_t\n",
        "\n",
        "print(round(profit_t,2))\n",
        "\n",
        "print(\"총 수익 : \" + str(format(int(profit_t * won), \",\")) + \" 원\")\n",
        "print(\" 수익률 : \" + str(round(profit(go_arr[1],ror),3)) +\" %\")"
      ],
      "execution_count": 149,
      "outputs": [
        {
          "output_type": "stream",
          "text": [
            "130.69\n",
            "16.17\n",
            "1119.66\n",
            "2021-04-08\n",
            "223.40000000000003 %\n",
            "223.4 %\n",
            "현재 1주 달러 가격 : 16.17 $\n",
            "현재 1주 원화 가격 : 18104 원\n",
            "100.53\n",
            "총 수익 : 112,559 원\n",
            " 수익률 : 223.4 %\n"
          ],
          "name": "stdout"
        }
      ]
    },
    {
      "cell_type": "code",
      "metadata": {
        "id": "P8w7NT_y28uM"
      },
      "source": [
        ""
      ],
      "execution_count": null,
      "outputs": []
    },
    {
      "cell_type": "code",
      "metadata": {
        "id": "2caIim9D29Nv"
      },
      "source": [
        ""
      ],
      "execution_count": null,
      "outputs": []
    },
    {
      "cell_type": "markdown",
      "metadata": {
        "id": "aFDHIguJ2oud"
      },
      "source": [
        "\n",
        "\n",
        "\n",
        "# **///////////////////////////////////////////////////////////////////////////////////////////////**"
      ]
    },
    {
      "cell_type": "markdown",
      "metadata": {
        "id": "_nHGxtV5Pu0W"
      },
      "source": [
        "**나의 잔고 현황 - Pie 차트**    // 입력 받고 데이터 불러오면 배열 수정\n",
        "\n",
        "matplotilb - pie chart 일부 변형"
      ]
    },
    {
      "cell_type": "code",
      "metadata": {
        "colab": {
          "base_uri": "https://localhost:8080/",
          "height": 320
        },
        "id": "gKMaOUVHO-eJ",
        "outputId": "7f40713a-fdb9-416f-c41e-9a45494bad74"
      },
      "source": [
        "import matplotlib.pyplot as plt\n",
        "import numpy as np\n",
        "from matplotlib import style\n",
        "\n",
        "style.use('ggplot')\n",
        "\n",
        "fig = plt.figure(figsize=(5,5))\n",
        "\n",
        "font1 = {'family': 'serif',\n",
        "      'color':  'black',\n",
        "      'weight': 'normal',\n",
        "      'size': 23}\n",
        "\n",
        "colors = ['red', 'gold', 'lavender', 'teal', 'lightskyblue', 'palegreen', 'silver']     # 각 색깔 설정\n",
        "my_stock = ['CCL', 'dollar', 'UAL', 'QUHUO', 'WFC', 'XOM', 'PARADISE.KD']\n",
        "my_price = [2282577, 1990821, 1203611, 809129, 801460, 764648, 598500 ]           # 21-04-06 기준\n",
        "explode = (0.0, 0.1, 0.0, 0.0, 0.0, 0.0, 0.0)   # 확대 시키는 거\n",
        "\n",
        "\n",
        "total = 0\n",
        "for i in my_price:    # 총 자산 계산\n",
        "  total += i\n",
        "\n",
        "title = \"Asset ratio\"    # 제목\n",
        "plt.title(title)\n",
        "\n",
        "plt.text(2, 0.38, str(format(total, \",\")) + \" WON\" ,fontdict=font1)    # https://matplotlib.org/3.3.1/tutorials/text/text_props.html 자세한 내용\n",
        "# total : int  \",\" 삽입하기 위해 format 하고 나서 string 변환\n",
        "\n",
        "# Figure, AxesSubplot 객체 생성 안해도 자동으로 호출함. Pie는 호출 안하고 출력\n",
        "\n",
        "plt.pie(my_price, explode = explode, labels=my_stock, colors = colors, autopct='%1.1f%%', shadow=True, startangle=90)\n",
        "# 파라미터 : plt.pie(데이터 차지 비율, 확대, 범주, 색상, 비율 수치 출력, 그림자 설정, 시작 각도 : CCL 부터 90도 각도로 부터 그려짐)\n",
        "plt.show()\n",
        "\n"
      ],
      "execution_count": null,
      "outputs": [
        {
          "output_type": "display_data",
          "data": {
            "image/png": "[encoded data removed]",
            "text/plain": [
              "<Figure size 360x360 with 1 Axes>"
            ]
          },
          "metadata": {
            "tags": []
          }
        }
      ]
    }
  ]
}